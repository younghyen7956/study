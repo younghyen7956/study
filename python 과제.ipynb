{
 "cells": [
  {
   "cell_type": "markdown",
   "id": "7491658d-9021-4f83-8f96-644d0a5504c3",
   "metadata": {
    "tags": []
   },
   "source": [
    "## `0`. imports\n",
    "아래코드를 이용하여 numpy 와 matplotlib을 import하라. "
   ]
  },
  {
   "cell_type": "code",
   "execution_count": 1,
   "id": "e68f3290-9b58-4292-92e2-685778cfda3b",
   "metadata": {
    "tags": []
   },
   "outputs": [],
   "source": [
    "import numpy as np\n",
    "import matplotlib.pyplot as plt "
   ]
  },
  {
   "cell_type": "markdown",
   "id": "fe851d5b-7bf4-454f-bb8b-b644cadfa7f8",
   "metadata": {},
   "source": [
    "`(1)` a의 type을 bool로 바꾸어라. "
   ]
  },
  {
   "cell_type": "code",
   "execution_count": 3,
   "id": "5c7c7da0-a6d3-4b41-b597-e580e495bb48",
   "metadata": {
    "tags": []
   },
   "outputs": [],
   "source": [
    "a=1.0"
   ]
  },
  {
   "cell_type": "code",
   "execution_count": 4,
   "id": "180b2947-f210-4d0f-a7fb-3489f987b147",
   "metadata": {
    "tags": []
   },
   "outputs": [
    {
     "data": {
      "text/plain": [
       "float"
      ]
     },
     "execution_count": 4,
     "metadata": {},
     "output_type": "execute_result"
    }
   ],
   "source": [
    "type(a)"
   ]
  },
  {
   "cell_type": "code",
   "execution_count": 5,
   "id": "6e104c00-d0e6-4b17-99fd-985a02a1d1e5",
   "metadata": {
    "tags": []
   },
   "outputs": [
    {
     "data": {
      "text/plain": [
       "True"
      ]
     },
     "execution_count": 5,
     "metadata": {},
     "output_type": "execute_result"
    }
   ],
   "source": [
    "bool(a)"
   ]
  },
  {
   "cell_type": "markdown",
   "id": "ddc29ff7-fdb7-48e9-9117-063c1f6296c2",
   "metadata": {},
   "source": [
    "**(2)-(6)**\n",
    "\n",
    "아래의 문자열을 고려하자. \n"
   ]
  },
  {
   "cell_type": "code",
   "execution_count": 6,
   "id": "4d2b7f9d-b874-4477-87c7-a177c6faa648",
   "metadata": {
    "tags": []
   },
   "outputs": [],
   "source": [
    "test_arr = 'ssh-rsa AAAAB3NzaC1yc2EAAAABIwAAAQEAklOUpkDHrfHY17SbrmTIpNLTGK9Tjom/BWDSUGPl+nafzlHDTYW7hdI4yZ5ew18JH4JW9jbhUFrviQzM7xlELEVf4h9lFX5QVkbPppSwg0cda3Pbv7kOdJ/MTyBlWXFCR+HAo3FXRitBqxiX1nKhXpHAZsMciLq8V6RjsNAQwdsdMFvSlVK/7XAt3FaoJoAsncM1Q9x5+3V0Ww68/eIFmb1zuUFljQJKprrX88XypNDvjYNby6vw/Pb0rwert/EnmZ+AW4OZPnTPI89ZPmVMLuayrD2cE86Z/il8b+gw3r3+1nKatmIkjn2so1d01QraTlMqVSsbxNrRFi9wrf+M7Q== schacon@mylaptop.local'"
   ]
  },
  {
   "cell_type": "markdown",
   "id": "fa4958eb-bbd4-4c96-805d-36cce67c101b",
   "metadata": {},
   "source": [
    "`(2)` 위 문자열에서 짝수번째 원소를 출력하는 코드를 작성하라. "
   ]
  },
  {
   "cell_type": "code",
   "execution_count": 12,
   "id": "bacc12db-4a88-43bd-b459-d6fdd95a83bf",
   "metadata": {
    "tags": []
   },
   "outputs": [
    {
     "data": {
      "text/plain": [
       "'s-s AA3zCy2AABwAQAlUkHfY7bmINTKTo/WSGlnflDY7d4Ze1J4WjhFvQMxEEfhlXQkPpw0d3b7OJMylXC+A3XiBxXnhpAscL86jNQddFSV/XtFoosc19530w8eFbzUlQKrX8yNvYb6wP0wr/nZA4ZnP8ZmMuyDc8Zi8+wr+namkns10QalqSbNRiwfMQ=shcnmlpo.oa'"
      ]
     },
     "execution_count": 12,
     "metadata": {},
     "output_type": "execute_result"
    }
   ],
   "source": [
    "test_arr[1::2]"
   ]
  },
  {
   "cell_type": "markdown",
   "id": "5a3a0216-4079-4cf2-8b00-a073ee3481d1",
   "metadata": {},
   "source": [
    "### indexing [시작부분::간격]"
   ]
  },
  {
   "cell_type": "markdown",
   "id": "60e217df-ac78-4bd9-be08-d3a728618881",
   "metadata": {},
   "source": [
    "`(3)` 위 문자열에서 마지막 10개의 원소를 출력하는 코드를 작성하라. "
   ]
  },
  {
   "cell_type": "markdown",
   "id": "115787ef-087e-4072-a92d-1e3658dce112",
   "metadata": {},
   "source": [
    "(풀이)"
   ]
  },
  {
   "cell_type": "code",
   "execution_count": 13,
   "id": "814a3e1e-afc5-4d4d-b826-57d098d946b5",
   "metadata": {
    "tags": []
   },
   "outputs": [
    {
     "data": {
      "text/plain": [
       "'ptop.local'"
      ]
     },
     "execution_count": 13,
     "metadata": {},
     "output_type": "execute_result"
    }
   ],
   "source": [
    "test_arr[-10:]"
   ]
  },
  {
   "cell_type": "markdown",
   "id": "c0cc2d74-a327-4682-90ef-f9e6ddf2d9d0",
   "metadata": {},
   "source": [
    "`(4)` 위 문자열을 뒤집은 문자열을 구하는 코드를 작성하라. 즉 아래를 출력하는 코드를 작성하라. \n",
    "```\n",
    "'lacol.potpalym@nocahcs ==Q7M+frw9iFRrNxbsSVqMlTarQ10d1os2njkImtaKn1+3r3wg+b8li/Z68Ec2DryauLMVmPZ98IPTnPZO4WA+ZmnE/trewr0bP/wv6ybNYjvDNpyX88XrrpKJQjlFUuz1bmFIe/86wW0V3+5x9Q1McnsAoJoaF3tAX7/KVlSvFMdsdwQANsjR6V8qLicMsZAHpXhKn1XixqBtiRXF3oAH+RCFXWlByTM/JdOk7vbP3adc0gwSppPbkVQ5XFl9h4fVELElx7MzQivrFUhbj9WJ4HJ81we5Zy4Idh7WYTDHlzfan+lPGUSDWB/mojT9KGTLNpITmrbS71YHfrHDkpUOlkAEQAAAwIBAAAAE2cy1CazN3BAAAA asr-hss'\n",
    "```"
   ]
  },
  {
   "cell_type": "markdown",
   "id": "9e641b5a-57b2-4d85-bc09-a136d36f6825",
   "metadata": {},
   "source": [
    "(풀이)"
   ]
  },
  {
   "cell_type": "code",
   "execution_count": 17,
   "id": "cf63279f-28f0-4a3f-a123-a837ff838f68",
   "metadata": {
    "tags": []
   },
   "outputs": [
    {
     "data": {
      "text/plain": [
       "'lacol.potpalym@nocahcs ==Q7M+frw9iFRrNxbsSVqMlTarQ10d1os2njkImtaKn1+3r3wg+b8li/Z68Ec2DryauLMVmPZ98IPTnPZO4WA+ZmnE/trewr0bP/wv6ybNYjvDNpyX88XrrpKJQjlFUuz1bmFIe/86wW0V3+5x9Q1McnsAoJoaF3tAX7/KVlSvFMdsdwQANsjR6V8qLicMsZAHpXhKn1XixqBtiRXF3oAH+RCFXWlByTM/JdOk7vbP3adc0gwSppPbkVQ5XFl9h4fVELElx7MzQivrFUhbj9WJ4HJ81we5Zy4Idh7WYTDHlzfan+lPGUSDWB/mojT9KGTLNpITmrbS71YHfrHDkpUOlkAEQAAAwIBAAAAE2cy1CazN3BAAAA asr-hss'"
      ]
     },
     "execution_count": 17,
     "metadata": {},
     "output_type": "execute_result"
    }
   ],
   "source": [
    "test_arr[::-1]"
   ]
  },
  {
   "cell_type": "markdown",
   "id": "9d470a3f-cef0-40d2-9a8f-89e9963b4cbc",
   "metadata": {},
   "source": [
    "`(5)` 위 문자열에서 대문자의 수를 count하라."
   ]
  },
  {
   "cell_type": "markdown",
   "id": "53851b28-6378-41a0-a50f-ae395007cf60",
   "metadata": {},
   "source": [
    "(풀이)"
   ]
  },
  {
   "cell_type": "code",
   "execution_count": 18,
   "id": "e803fb1e-6aa1-4d5d-a73e-612adc3f6dd2",
   "metadata": {
    "tags": []
   },
   "outputs": [
    {
     "data": {
      "text/plain": [
       "155"
      ]
     },
     "execution_count": 18,
     "metadata": {},
     "output_type": "execute_result"
    }
   ],
   "source": [
    "sum([s.isupper() for s in test_arr])"
   ]
  },
  {
   "cell_type": "markdown",
   "id": "6e4d0ff3-60f6-4d50-8b06-253e0c43438a",
   "metadata": {},
   "source": [
    "**hint** .isupper() 메소드를 이용할 것. "
   ]
  },
  {
   "cell_type": "code",
   "execution_count": null,
   "id": "f5ad493d-260d-44c8-89bc-44618391419c",
   "metadata": {},
   "outputs": [
    {
     "data": {
      "text/plain": [
       "False"
      ]
     },
     "execution_count": 9,
     "metadata": {},
     "output_type": "execute_result"
    }
   ],
   "source": [
    "'a'.isupper()"
   ]
  },
  {
   "cell_type": "code",
   "execution_count": null,
   "id": "8cde9d15-3112-4cac-a5ea-9c5022daa20d",
   "metadata": {},
   "outputs": [
    {
     "data": {
      "text/plain": [
       "True"
      ]
     },
     "execution_count": 10,
     "metadata": {},
     "output_type": "execute_result"
    }
   ],
   "source": [
    "'A'.isupper()"
   ]
  },
  {
   "cell_type": "code",
   "execution_count": 11,
   "id": "62835757-59d8-45ea-9de8-9321d3bf1f13",
   "metadata": {},
   "outputs": [
    {
     "data": {
      "text/plain": [
       "False"
      ]
     },
     "execution_count": 11,
     "metadata": {},
     "output_type": "execute_result"
    }
   ],
   "source": [
    "'='.isupper()"
   ]
  },
  {
   "cell_type": "code",
   "execution_count": 12,
   "id": "769098d8-aa32-4ef8-8960-985750740dcd",
   "metadata": {},
   "outputs": [
    {
     "data": {
      "text/plain": [
       "False"
      ]
     },
     "execution_count": 12,
     "metadata": {},
     "output_type": "execute_result"
    }
   ],
   "source": [
    "'@'.isupper()"
   ]
  },
  {
   "cell_type": "markdown",
   "id": "0dfb1a55-1d87-47c3-b496-babeade2a928",
   "metadata": {},
   "source": [
    "`(6)` 위 문자열에서 사용된 문자 및 특수문자의 종류는 모두 몇가지 인가?"
   ]
  },
  {
   "cell_type": "markdown",
   "id": "ea50a5c2-4329-4769-8d87-65092b8d418f",
   "metadata": {},
   "source": [
    "(풀이)"
   ]
  },
  {
   "cell_type": "code",
   "execution_count": 19,
   "id": "655d7c48-5c99-4acf-8ee3-f793b5a37050",
   "metadata": {
    "tags": []
   },
   "outputs": [
    {
     "data": {
      "text/plain": [
       "69"
      ]
     },
     "execution_count": 19,
     "metadata": {},
     "output_type": "execute_result"
    }
   ],
   "source": [
    "len(set(test_arr))"
   ]
  },
  {
   "cell_type": "markdown",
   "id": "c0322675-2976-40ec-a1d8-6647f085ea9b",
   "metadata": {},
   "source": [
    "---"
   ]
  },
  {
   "cell_type": "markdown",
   "id": "0a1cd858-ca2a-47ad-b8bf-ec0e23f4f8aa",
   "metadata": {},
   "source": [
    "`(7)` 리스트컴프리헨션을 이용하여 아래와 같은 리스트를 생성하라 \n",
    "\n",
    "```\n",
    "['a',\n",
    " 'aa',\n",
    " 'aaa',\n",
    " 'aaaa',\n",
    " 'aaaaa',\n",
    " 'aaaaaa',\n",
    " 'aaaaaaa',\n",
    " 'aaaaaaaa',\n",
    " 'aaaaaaaaa',\n",
    " 'aaaaaaaaaa'] <- a가 10개있음 \n",
    "```"
   ]
  },
  {
   "cell_type": "markdown",
   "id": "23123ea0-75e1-41f4-97aa-c5ccad2ca453",
   "metadata": {},
   "source": [
    "(풀이)"
   ]
  },
  {
   "cell_type": "code",
   "execution_count": 20,
   "id": "884db730-d0ec-47dc-84f4-faacb5c7d168",
   "metadata": {
    "tags": []
   },
   "outputs": [
    {
     "data": {
      "text/plain": [
       "['a',\n",
       " 'aa',\n",
       " 'aaa',\n",
       " 'aaaa',\n",
       " 'aaaaa',\n",
       " 'aaaaaa',\n",
       " 'aaaaaaa',\n",
       " 'aaaaaaaa',\n",
       " 'aaaaaaaaa',\n",
       " 'aaaaaaaaaa']"
      ]
     },
     "execution_count": 20,
     "metadata": {},
     "output_type": "execute_result"
    }
   ],
   "source": [
    "['a'*i for i in range(1,11)]"
   ]
  },
  {
   "cell_type": "markdown",
   "id": "a64a023d-4f70-47b8-bc05-b0f84573cad1",
   "metadata": {},
   "source": [
    "`(9)` 아래와 같은 list가 있다고 하자. \n",
    "\n",
    "```python\n",
    "test_lst = [['g',1],['u',5],['e',2],['b',8],['i',2],['n',9]]\n",
    "```\n",
    "\n",
    "test_lst와 리스트컴프리헨션을 이용하여 아래를 출력하는 코드를 구현하라. \n",
    "\n",
    "```\n",
    "['g', 'uuuuu', 'ee', 'bbbbbbbb', 'ii', 'nnnnnnnnn']\n",
    "```"
   ]
  },
  {
   "cell_type": "markdown",
   "id": "f174e30d-c1c0-4e6e-9160-c36c78df0f4d",
   "metadata": {},
   "source": [
    "(풀이)"
   ]
  },
  {
   "cell_type": "code",
   "execution_count": 21,
   "id": "46cc34f5-9078-4446-8388-2e0439b89f4b",
   "metadata": {
    "tags": []
   },
   "outputs": [
    {
     "data": {
      "text/plain": [
       "['g', 'uuuuu', 'ee', 'bbbbbbbb', 'ii', 'nnnnnnnnn']"
      ]
     },
     "execution_count": 21,
     "metadata": {},
     "output_type": "execute_result"
    }
   ],
   "source": [
    "test_lst = [['g',1],['u',5],['e',2],['b',8],['i',2],['n',9]]\n",
    "[i*j for i,j in test_lst]"
   ]
  },
  {
   "cell_type": "markdown",
   "id": "2d42c7b2-d681-4bca-a316-d33c24b592bf",
   "metadata": {},
   "source": [
    "> note: 출제의도: 스트링의 `+` 연산, 리스트 컴프리헨션"
   ]
  },
  {
   "cell_type": "markdown",
   "id": "996a7c91-1d4a-4d73-98b1-c172a779ae4d",
   "metadata": {},
   "source": [
    "`(10)` 다음은 학생들의 출석,레포트,중간고사,기말고사 점수를 입력으로 하여 학점을 계산하는 함수이다. "
   ]
  },
  {
   "cell_type": "code",
   "execution_count": 22,
   "id": "4fa84c4d-e2e7-477c-9c0a-dbe8d967cb8b",
   "metadata": {
    "tags": []
   },
   "outputs": [],
   "source": [
    "def grade(attendance, report, mid, final): \n",
    "    if attendance<70: \n",
    "        credit = 'F' \n",
    "    else: \n",
    "        total_score = attendance * 0.1 + report * 0.2 + mid * 0.3 + final * 0.4 \n",
    "        if total_score > 80: \n",
    "            credit = 'A+' \n",
    "        else:\n",
    "            credit = 'B0' \n",
    "    return credit "
   ]
  },
  {
   "cell_type": "markdown",
   "id": "5399c3d2-7ed3-4707-95c3-31c83336bb3d",
   "metadata": {},
   "source": [
    "아래는 학생들의 학번, 출석점수, 레포트, 중간고사, 기말고사 점수가 입력된 리스트이다. "
   ]
  },
  {
   "cell_type": "code",
   "execution_count": 24,
   "id": "9ad67ca4-bfb4-4dfc-a745-d78bab9c1d15",
   "metadata": {
    "tags": []
   },
   "outputs": [],
   "source": [
    "data = [['202212345', [100,95,25,90]],\n",
    "        ['202212346', [60,90,95,95]],\n",
    "        ['202212347', [50,90,45,35]],\n",
    "        ['202212348', [90,90,50,75]],\n",
    "        ['202212349', [100,95,85,85]],\n",
    "        ['202212350', [90,90,100,95]],\n",
    "        ['202212351', [100,95,100,95]],\n",
    "        ['202212352', [95,85,80,60]],\n",
    "        ['202212353', [100,90,60,55]],\n",
    "        ['202212354', [100,85,70,95]],\n",
    "        ['202212355', [100,95,40,100]]]"
   ]
  },
  {
   "cell_type": "markdown",
   "id": "d8464535-e741-48c0-9252-903cc0fa5524",
   "metadata": {},
   "source": [
    "아래의 ???를 적절하게 완성하여 학생들의 학점을 계산하는 코드를 완성하라. \n",
    "\n",
    "```python\n",
    "[grade(???) for _, scores in data] \n",
    "```"
   ]
  },
  {
   "cell_type": "markdown",
   "id": "60f8a872-178f-4a5b-b1ea-35f573ef1294",
   "metadata": {},
   "source": [
    "(풀이)"
   ]
  },
  {
   "cell_type": "code",
   "execution_count": 25,
   "id": "2b78d6dc-99f5-4259-8577-240b6305b4bc",
   "metadata": {
    "tags": []
   },
   "outputs": [
    {
     "data": {
      "text/plain": [
       "['B0', 'F', 'F', 'B0', 'A+', 'A+', 'A+', 'B0', 'B0', 'A+', 'A+']"
      ]
     },
     "execution_count": 25,
     "metadata": {},
     "output_type": "execute_result"
    }
   ],
   "source": [
    "[grade(*scores) for _, scores in data] "
   ]
  },
  {
   "cell_type": "markdown",
   "id": "58f99f55-4145-41cf-9280-caca95d8624b",
   "metadata": {},
   "source": [
    "`(11)` 길이가 0인 문자열을 선언하라. "
   ]
  },
  {
   "cell_type": "markdown",
   "id": "87c4bd1b-817a-4700-8f7a-b55472c5df75",
   "metadata": {},
   "source": [
    "(풀이)"
   ]
  },
  {
   "cell_type": "code",
   "execution_count": 26,
   "id": "df1b5003-e2dc-47a2-abcd-8c0ef29a3653",
   "metadata": {
    "tags": []
   },
   "outputs": [
    {
     "data": {
      "text/plain": [
       "0"
      ]
     },
     "execution_count": 26,
     "metadata": {},
     "output_type": "execute_result"
    }
   ],
   "source": [
    "len('')"
   ]
  },
  {
   "cell_type": "markdown",
   "id": "0bdabb7b-b245-48ec-bdac-c57d23f0a6f4",
   "metadata": {},
   "source": [
    "---"
   ]
  },
  {
   "cell_type": "markdown",
   "id": "131ccace-ec6b-424a-bdef-fed90022c6c4",
   "metadata": {},
   "source": [
    "**(12)-(15)**"
   ]
  },
  {
   "cell_type": "markdown",
   "id": "c08cf2cd-bd4e-4f0b-88d2-4ef4ccd47368",
   "metadata": {},
   "source": [
    "`(12)` dir(plt)와 dir(np)를 각각 실행하라. 실행결과를 각각 a,b로 저장하라. a,b의 type은 무엇인가? "
   ]
  },
  {
   "cell_type": "markdown",
   "id": "65e92f4b-59d7-4d7f-a330-5ad82fd7ec7e",
   "metadata": {},
   "source": [
    "(풀이)"
   ]
  },
  {
   "cell_type": "code",
   "execution_count": 34,
   "id": "8045eaa1-046e-4daa-b886-53ff03136157",
   "metadata": {
    "tags": []
   },
   "outputs": [
    {
     "data": {
      "text/plain": [
       "(list, list)"
      ]
     },
     "execution_count": 34,
     "metadata": {},
     "output_type": "execute_result"
    }
   ],
   "source": [
    "a=dir(plt)\n",
    "b=dir(np)\n",
    "type(a),type(b)"
   ]
  },
  {
   "cell_type": "markdown",
   "id": "7efe5444-c9f6-4209-882d-e0b311a587a9",
   "metadata": {},
   "source": [
    "`(13)` a의 원소와 b의 원소의 수를 각각 구하라. "
   ]
  },
  {
   "cell_type": "markdown",
   "id": "fb377386-84f7-48bc-91fb-1bcd8d9aa9eb",
   "metadata": {},
   "source": [
    "(풀이)"
   ]
  },
  {
   "cell_type": "code",
   "execution_count": 35,
   "id": "56caca8f-07ff-49e4-a42b-3aa7a78b7ae5",
   "metadata": {
    "tags": []
   },
   "outputs": [
    {
     "data": {
      "text/plain": [
       "(256, 596)"
      ]
     },
     "execution_count": 35,
     "metadata": {},
     "output_type": "execute_result"
    }
   ],
   "source": [
    "len(a),len(b)"
   ]
  },
  {
   "cell_type": "markdown",
   "id": "1a9fc47d-0477-4418-bcc4-2c940d6fc1b9",
   "metadata": {},
   "source": [
    "`(14)` a와 b의 공통원소의 수를 구하라. "
   ]
  },
  {
   "cell_type": "markdown",
   "id": "fadeb94e-a432-4de0-a233-e89df6c06765",
   "metadata": {},
   "source": [
    "(풀이)"
   ]
  },
  {
   "cell_type": "code",
   "execution_count": 37,
   "id": "9a5c2e33-b428-4d80-b3ef-7f383216ce04",
   "metadata": {
    "tags": []
   },
   "outputs": [
    {
     "data": {
      "text/plain": [
       "8"
      ]
     },
     "execution_count": 37,
     "metadata": {},
     "output_type": "execute_result"
    }
   ],
   "source": [
    "len(set(a)&set(b))"
   ]
  },
  {
   "cell_type": "markdown",
   "id": "bea7c8e9-4908-4529-9083-997451f79fe6",
   "metadata": {},
   "source": [
    "`(15)` a와 b의 원소를 합친 리스트를 만들어라. (공통원소는 중복하여 합치지 않는다) "
   ]
  },
  {
   "cell_type": "markdown",
   "id": "f931680c-4fd0-4b62-90d3-b5a34b85f58f",
   "metadata": {},
   "source": [
    "(풀이)"
   ]
  },
  {
   "cell_type": "code",
   "execution_count": null,
   "id": "5306d51a-c140-464e-ba82-a8af5ef2ee8a",
   "metadata": {
    "tags": []
   },
   "outputs": [],
   "source": []
  },
  {
   "cell_type": "code",
   "execution_count": 44,
   "id": "bf21452f-59e1-401c-85e4-278d70356352",
   "metadata": {
    "tags": []
   },
   "outputs": [],
   "source": [
    "lst = list(set(a)|set(b))"
   ]
  },
  {
   "cell_type": "markdown",
   "id": "4a242439-27cf-460f-8459-a3b61bde9875",
   "metadata": {},
   "source": [
    "--- "
   ]
  },
  {
   "cell_type": "markdown",
   "id": "77411a30-dedb-46fa-9fc7-6bb9c391be27",
   "metadata": {},
   "source": [
    "**(16)-(18)** 아래와 같은 dictionary가 있다. "
   ]
  },
  {
   "cell_type": "code",
   "execution_count": 46,
   "id": "97090998-b778-4d6d-aab5-5e9747c02209",
   "metadata": {
    "tags": []
   },
   "outputs": [],
   "source": [
    "test_dic = {'202212345': {'att':100,'rep':95,'mid':25,'fin':90},\n",
    "            '202212346': {'att':60,'rep':90,'mid':95,'fin':95},\n",
    "            '202212347': {'att':50,'rep':90,'mid':45,'fin':35},\n",
    "            '202212348': {'att':90,'rep':90,'mid':50,'fin':75},\n",
    "            '202212349': {'att':100,'rep':95,'mid':85,'fin':85},\n",
    "            '202212350': {'att':90,'rep':90,'mid':100,'fin':95},\n",
    "            '202212351': {'att':100,'rep':95,'mid':100,'fin':95},\n",
    "            '202212352': {'att':95,'rep':85,'mid':80,'fin':60},\n",
    "            '202212353': {'att':100,'rep':90,'mid':60,'fin':55},\n",
    "            '202212354': {'att':100,'rep':85,'mid':70,'fin':95},\n",
    "            '202212355': {'att':100,'rep':95,'mid':40,'fin':100}}"
   ]
  },
  {
   "cell_type": "markdown",
   "id": "4e121911-31eb-43c4-864b-a2c11d148725",
   "metadata": {},
   "source": [
    "여기에서 `202212345`등은 학번을, att는 출석점수, rep는 레포트점수, mid는 중간고사점수, fin은 기말고사 점수를 의미한다. "
   ]
  },
  {
   "cell_type": "markdown",
   "id": "ca67842a-94e8-4ffb-b656-e07e3d129e6c",
   "metadata": {},
   "source": [
    "`(16)` get 메소드를 이용하여 202212353에 해당하는 학생의 성적을 아래와 같이 리턴하라. \n",
    "```\n",
    "{'att': 100, 'rep': 90, 'mid': 60, 'fin': 55}\n",
    "```"
   ]
  },
  {
   "cell_type": "markdown",
   "id": "122ee64d-b457-4fef-83e6-af6827a53d32",
   "metadata": {},
   "source": [
    "(풀이)"
   ]
  },
  {
   "cell_type": "code",
   "execution_count": 49,
   "id": "b47c8520-3fc1-4946-bce8-21ee9cd7b0fc",
   "metadata": {
    "tags": []
   },
   "outputs": [
    {
     "data": {
      "text/plain": [
       "{'att': 100, 'rep': 90, 'mid': 60, 'fin': 55}"
      ]
     },
     "execution_count": 49,
     "metadata": {},
     "output_type": "execute_result"
    }
   ],
   "source": [
    "test_dic['202212353']"
   ]
  },
  {
   "cell_type": "markdown",
   "id": "79d71470-67e3-4445-8912-1b4592462b59",
   "metadata": {},
   "source": [
    "`(17)` 202212354의 레포트 점수를 리턴하라. "
   ]
  },
  {
   "cell_type": "markdown",
   "id": "25375554-47db-4318-b284-884902ce96a5",
   "metadata": {},
   "source": [
    "(풀이)"
   ]
  },
  {
   "cell_type": "code",
   "execution_count": 27,
   "id": "a53fd0e3-decf-48c6-b7cd-efd661dda6b8",
   "metadata": {},
   "outputs": [
    {
     "data": {
      "text/plain": [
       "85"
      ]
     },
     "execution_count": 27,
     "metadata": {},
     "output_type": "execute_result"
    }
   ],
   "source": [
    "test_dic['202212354']['rep']"
   ]
  },
  {
   "cell_type": "markdown",
   "id": "695d6fcf-0fc7-4f0a-ae7b-08bc0d022223",
   "metadata": {},
   "source": [
    "`(18)` 학생들의 학번을 리턴하는 코드를 작성하라. "
   ]
  },
  {
   "cell_type": "markdown",
   "id": "330dd57e-a622-429a-a4b1-d88c516c2ac0",
   "metadata": {},
   "source": [
    "(풀이)"
   ]
  },
  {
   "cell_type": "code",
   "execution_count": 52,
   "id": "fb659886-88a7-48f2-96ed-64f67e4dc3dd",
   "metadata": {
    "tags": []
   },
   "outputs": [
    {
     "data": {
      "text/plain": [
       "['202212345',\n",
       " '202212346',\n",
       " '202212347',\n",
       " '202212348',\n",
       " '202212349',\n",
       " '202212350',\n",
       " '202212351',\n",
       " '202212352',\n",
       " '202212353',\n",
       " '202212354',\n",
       " '202212355']"
      ]
     },
     "execution_count": 52,
     "metadata": {},
     "output_type": "execute_result"
    }
   ],
   "source": [
    "[i for i in test_dic.keys()]"
   ]
  },
  {
   "cell_type": "markdown",
   "id": "a9d9528d-a6de-4eb2-a35e-79b204f14e17",
   "metadata": {},
   "source": [
    "`(19)` shape이 ()인 numpy이 array를 만들어라. (즉 차원이 0인 np.array를 만들어라)"
   ]
  },
  {
   "cell_type": "markdown",
   "id": "0f2a82aa-5709-4574-833f-bb2a128f1c16",
   "metadata": {},
   "source": [
    "(풀이)"
   ]
  },
  {
   "cell_type": "code",
   "execution_count": 61,
   "id": "8c7b10de-0ac2-4800-9121-a53e8a9210de",
   "metadata": {
    "tags": []
   },
   "outputs": [
    {
     "data": {
      "text/plain": [
       "()"
      ]
     },
     "execution_count": 61,
     "metadata": {},
     "output_type": "execute_result"
    }
   ],
   "source": [
    "np.array(2).shape"
   ]
  },
  {
   "cell_type": "markdown",
   "id": "2df73ee0-0a36-4dc4-8175-1b3d98d3ecc5",
   "metadata": {},
   "source": [
    "> note: 출제의도: 0차원인 numpy array"
   ]
  },
  {
   "cell_type": "markdown",
   "id": "cd374e4b-972a-4b5a-9b95-942bc6a82fb0",
   "metadata": {},
   "source": [
    "`(20)` shape이 (2,2)인 단위행렬을 만들어라. "
   ]
  },
  {
   "cell_type": "markdown",
   "id": "bf702fd0-d694-4df5-a0b5-352b4fb1ed47",
   "metadata": {},
   "source": [
    "(풀이)"
   ]
  },
  {
   "cell_type": "code",
   "execution_count": 62,
   "id": "05811668-0fea-4bc5-9ed1-5fe4e3941917",
   "metadata": {
    "tags": []
   },
   "outputs": [
    {
     "data": {
      "text/plain": [
       "array([[1, 0],\n",
       "       [0, 1]])"
      ]
     },
     "execution_count": 62,
     "metadata": {},
     "output_type": "execute_result"
    }
   ],
   "source": [
    "np.array([[1,0],[0,1]])"
   ]
  },
  {
   "cell_type": "markdown",
   "id": "b12ebbff-2439-4d88-80c1-232ddfe13f0c",
   "metadata": {},
   "source": [
    "`(21)` a의 모든 원소에 1을 더하는 코드를 작성하라. \n",
    "\n",
    "```python\n",
    "a=[1,3,2,5,-3,3,8,2,3,1] \n",
    "```"
   ]
  },
  {
   "cell_type": "markdown",
   "id": "2fa4b27d-357d-430c-82c5-f9f40936c3c9",
   "metadata": {},
   "source": [
    "(풀이)"
   ]
  },
  {
   "cell_type": "code",
   "execution_count": 68,
   "id": "edc8193d-c3de-4578-a6b8-c8f2714b6f7b",
   "metadata": {
    "tags": []
   },
   "outputs": [
    {
     "data": {
      "text/plain": [
       "array([ 2,  4,  3,  6, -2,  4,  9,  3,  4,  2])"
      ]
     },
     "execution_count": 68,
     "metadata": {},
     "output_type": "execute_result"
    }
   ],
   "source": [
    "np.array([1,3,2,5,-3,3,8,2,3,1])+1"
   ]
  },
  {
   "cell_type": "markdown",
   "id": "92e7d2bb-a135-428d-8aa1-127fd791da6a",
   "metadata": {},
   "source": [
    "`(22)` 아래와 같은 수열을 생성하라. \n",
    "```\n",
    "1,3,6,10,15,21,28,36,45, ... , 378, 406, 435\n",
    "```"
   ]
  },
  {
   "cell_type": "markdown",
   "id": "b422c258-4633-423f-ac9a-f385e18beac5",
   "metadata": {},
   "source": [
    "**hint:** 이 수열에서 $a_n-a_{n-1}=n, ~n\\geq 2$ 이다. 즉 3-1=2, 6-3=3, 10-6=4, ... "
   ]
  },
  {
   "cell_type": "markdown",
   "id": "dc5c175d-4edf-44cd-96f3-4fc45b53c257",
   "metadata": {},
   "source": [
    "(풀이)"
   ]
  },
  {
   "cell_type": "code",
   "execution_count": 69,
   "id": "da47e184-5b57-4f0d-8ac3-5e489a3e35b7",
   "metadata": {
    "tags": []
   },
   "outputs": [
    {
     "data": {
      "text/plain": [
       "29"
      ]
     },
     "execution_count": 69,
     "metadata": {},
     "output_type": "execute_result"
    }
   ],
   "source": [
    "435-406"
   ]
  },
  {
   "cell_type": "code",
   "execution_count": 81,
   "id": "aa730b12-8856-45d2-a528-cd44cc133a41",
   "metadata": {
    "tags": []
   },
   "outputs": [
    {
     "data": {
      "text/plain": [
       "array([  1,   3,   6,  10,  15,  21,  28,  36,  45,  55,  66,  78,  91,\n",
       "       105, 120, 136, 153, 171, 190, 210, 231, 253, 276, 300, 325, 351,\n",
       "       378, 406, 435])"
      ]
     },
     "execution_count": 81,
     "metadata": {},
     "output_type": "execute_result"
    }
   ],
   "source": [
    "np.arange(1,30).cumsum()"
   ]
  },
  {
   "cell_type": "markdown",
   "id": "d855bd2b-524e-4a33-8c6c-ac37b2296d1e",
   "metadata": {},
   "source": [
    "`(23)` 아래와 같은 수열을 생생성하라. \n",
    "```\n",
    "0,1,2,3,4,5,...,99 \n",
    "```"
   ]
  },
  {
   "cell_type": "markdown",
   "id": "52d6f4d7-fa78-4cf8-9905-8ecea0b9a496",
   "metadata": {},
   "source": [
    "위의 수열에서 1,4,7,10,13,... 번째의 원소를 뽑아라. (첫번째 원소는 0이다) "
   ]
  },
  {
   "cell_type": "markdown",
   "id": "734e835b-671d-4eff-85ad-44f67e59bd70",
   "metadata": {},
   "source": [
    "(풀이)"
   ]
  },
  {
   "cell_type": "code",
   "execution_count": 84,
   "id": "978d5bc3-7878-4291-8b03-ccf7a000f963",
   "metadata": {
    "tags": []
   },
   "outputs": [
    {
     "data": {
      "text/plain": [
       "array([ 0,  3,  6,  9, 12, 15, 18, 21, 24, 27, 30, 33, 36, 39, 42, 45, 48,\n",
       "       51, 54, 57, 60, 63, 66, 69, 72, 75, 78, 81, 84, 87, 90, 93, 96, 99])"
      ]
     },
     "execution_count": 84,
     "metadata": {},
     "output_type": "execute_result"
    }
   ],
   "source": [
    "np.arange(100)[0::3]"
   ]
  },
  {
   "cell_type": "markdown",
   "id": "491e09e8-7d77-44a4-9f5f-1aacdf7e4d4e",
   "metadata": {},
   "source": [
    "`(24)` numpy를 이용하여 아래의 역행렬을 구하라. \n",
    "$$\\begin{bmatrix}\n",
    "1&  0 \\\\\n",
    "0&  3\n",
    "\\end{bmatrix}$$"
   ]
  },
  {
   "cell_type": "markdown",
   "id": "f3b6b2c2-116b-44bb-bc76-780bc5a91e62",
   "metadata": {},
   "source": [
    "(풀이)"
   ]
  },
  {
   "cell_type": "code",
   "execution_count": 94,
   "id": "6fd50a62-7d97-43aa-85b7-97e72aa8e8b0",
   "metadata": {
    "tags": []
   },
   "outputs": [
    {
     "data": {
      "text/plain": [
       "array([[1.        , 0.        ],\n",
       "       [0.        , 0.33333333]])"
      ]
     },
     "execution_count": 94,
     "metadata": {},
     "output_type": "execute_result"
    }
   ],
   "source": [
    "np.linalg.inv(np.array([[1,0],[0,3]]))"
   ]
  },
  {
   "cell_type": "markdown",
   "id": "e42ef0d0-d6b6-4c01-9780-fd24e04af0cf",
   "metadata": {},
   "source": [
    "**(25)-(30)**\n",
    "\n",
    "a,b가 아래와 같이 주어졌다고 하자. \n"
   ]
  },
  {
   "cell_type": "code",
   "execution_count": 95,
   "id": "2f13b8f2-7f90-4ba3-8311-e30b9869172c",
   "metadata": {
    "tags": []
   },
   "outputs": [],
   "source": [
    "a=[1]*10 \n",
    "b=[2]*10 "
   ]
  },
  {
   "cell_type": "markdown",
   "id": "1ac08b97-80ec-426b-bb6f-0d133ce613c6",
   "metadata": {},
   "source": [
    "`(25)` a,b와 np.concatenate를 이용하여 아래와 같은 배열을 만들어라. \n",
    "\n",
    "```\n",
    "array([1, 1, 1, 1, 1, 1, 1, 1, 1, 1, 2, 2, 2, 2, 2, 2, 2, 2, 2, 2])\n",
    "```"
   ]
  },
  {
   "cell_type": "markdown",
   "id": "dcc43097-74d1-4dee-8e2d-e4334a529716",
   "metadata": {},
   "source": [
    "(풀이)"
   ]
  },
  {
   "cell_type": "code",
   "execution_count": 96,
   "id": "129603b6-8811-44ca-b7c2-ec8d23723d07",
   "metadata": {
    "tags": []
   },
   "outputs": [
    {
     "data": {
      "text/plain": [
       "array([1, 1, 1, 1, 1, 1, 1, 1, 1, 1, 2, 2, 2, 2, 2, 2, 2, 2, 2, 2])"
      ]
     },
     "execution_count": 96,
     "metadata": {},
     "output_type": "execute_result"
    }
   ],
   "source": [
    "np.concatenate([a,b])"
   ]
  },
  {
   "cell_type": "markdown",
   "id": "b17c2c49-d316-4e33-bc9a-43b67aa39eca",
   "metadata": {},
   "source": [
    "`(26)` a,b와 np.concatenate를 이용하여 아래와 같은 배열을 만들어라. \n",
    "```\n",
    "array([[1],\n",
    "       [1],\n",
    "       [1],\n",
    "       [1],\n",
    "       [1],\n",
    "       [1],\n",
    "       [1],\n",
    "       [1],\n",
    "       [1],\n",
    "       [1],\n",
    "       [2],\n",
    "       [2],\n",
    "       [2],\n",
    "       [2],\n",
    "       [2],\n",
    "       [2],\n",
    "       [2],\n",
    "       [2],\n",
    "       [2],\n",
    "       [2]])\n",
    "```"
   ]
  },
  {
   "cell_type": "markdown",
   "id": "a057741b-6818-4595-aac3-5ed1ab435885",
   "metadata": {},
   "source": [
    "(풀이)"
   ]
  },
  {
   "cell_type": "code",
   "execution_count": 100,
   "id": "054f1171-3298-4d73-8e8f-94da8c5db488",
   "metadata": {
    "tags": []
   },
   "outputs": [
    {
     "data": {
      "text/plain": [
       "(array([[1],\n",
       "        [1],\n",
       "        [1],\n",
       "        [1],\n",
       "        [1],\n",
       "        [1],\n",
       "        [1],\n",
       "        [1],\n",
       "        [1],\n",
       "        [1],\n",
       "        [2],\n",
       "        [2],\n",
       "        [2],\n",
       "        [2],\n",
       "        [2],\n",
       "        [2],\n",
       "        [2],\n",
       "        [2],\n",
       "        [2],\n",
       "        [2]]),\n",
       " array([[1],\n",
       "        [1],\n",
       "        [1],\n",
       "        [1],\n",
       "        [1],\n",
       "        [1],\n",
       "        [1],\n",
       "        [1],\n",
       "        [1],\n",
       "        [1],\n",
       "        [2],\n",
       "        [2],\n",
       "        [2],\n",
       "        [2],\n",
       "        [2],\n",
       "        [2],\n",
       "        [2],\n",
       "        [2],\n",
       "        [2],\n",
       "        [2]]))"
      ]
     },
     "execution_count": 100,
     "metadata": {},
     "output_type": "execute_result"
    }
   ],
   "source": [
    "np.concatenate([a,b]).reshape(-1,1),np.concatenate([np.array(a).reshape(-1,1),np.array(b).reshape(-1,1)])"
   ]
  },
  {
   "cell_type": "markdown",
   "id": "0f7b7555-b707-41ab-bb8c-0de356221a02",
   "metadata": {},
   "source": [
    "`(27)` a,b와 np.concatenate를 이용하여 아래와 같은 배열을 만들어라. \n",
    "\n",
    "```\n",
    "array([[1, 1, 1, 1, 1, 1, 1, 1, 1, 1],\n",
    "       [2, 2, 2, 2, 2, 2, 2, 2, 2, 2]]\n",
    "```"
   ]
  },
  {
   "cell_type": "markdown",
   "id": "24cf7458-44b3-4fff-b0ef-b30f5f1d8234",
   "metadata": {},
   "source": [
    "(풀이)"
   ]
  },
  {
   "cell_type": "code",
   "execution_count": 106,
   "id": "d67ae653-7f85-4203-9916-c038b5e609c5",
   "metadata": {
    "tags": []
   },
   "outputs": [
    {
     "data": {
      "text/plain": [
       "array([[1, 1, 1, 1, 1, 1, 1, 1, 1, 1],\n",
       "       [2, 2, 2, 2, 2, 2, 2, 2, 2, 2]])"
      ]
     },
     "execution_count": 106,
     "metadata": {},
     "output_type": "execute_result"
    }
   ],
   "source": [
    "np.concatenate([a,b]).reshape(2,10)"
   ]
  },
  {
   "cell_type": "code",
   "execution_count": 101,
   "id": "61ca5ab8-0614-436e-a3f8-97ad879895e7",
   "metadata": {
    "tags": []
   },
   "outputs": [
    {
     "data": {
      "text/plain": [
       "array([[1, 1, 1, 1, 1, 1, 1, 1, 1, 1],\n",
       "       [2, 2, 2, 2, 2, 2, 2, 2, 2, 2]])"
      ]
     },
     "execution_count": 101,
     "metadata": {},
     "output_type": "execute_result"
    }
   ],
   "source": [
    "np.concatenate([np.array(a).reshape(1,-1),np.array(b).reshape(1,-1)])"
   ]
  },
  {
   "cell_type": "markdown",
   "id": "f402c4d4-27e4-41e3-acc3-b9140723636a",
   "metadata": {},
   "source": [
    "`(28)` a,b와 np.concatenate를 이용하여 아래와 같은 배열을 만들어라. \n",
    "```\n",
    "array([[1, 2],\n",
    "       [1, 2],\n",
    "       [1, 2],\n",
    "       [1, 2],\n",
    "       [1, 2],\n",
    "       [1, 2],\n",
    "       [1, 2],\n",
    "       [1, 2],\n",
    "       [1, 2],\n",
    "       [1, 2]])\n",
    "```"
   ]
  },
  {
   "cell_type": "markdown",
   "id": "f8bc58f6-ba1b-4ee8-9697-9a7a8cec4758",
   "metadata": {},
   "source": [
    "(풀이)"
   ]
  },
  {
   "cell_type": "markdown",
   "id": "809dce9d-8966-4770-a939-1544ce0da6b5",
   "metadata": {},
   "source": [
    "`(29)` a,b와 np.stack을 이용하여 아래와 같은 배열을 만들어라. \n",
    "\n",
    "```\n",
    "array([[1, 1, 1, 1, 1, 1, 1, 1, 1, 1],\n",
    "       [2, 2, 2, 2, 2, 2, 2, 2, 2, 2]]\n",
    "```"
   ]
  },
  {
   "cell_type": "markdown",
   "id": "7ce03880-9781-45e3-b2fa-e7f04c59ff19",
   "metadata": {},
   "source": [
    "(풀이)"
   ]
  },
  {
   "cell_type": "code",
   "execution_count": 117,
   "id": "b5cf0532-42a3-45f5-96e1-ff859bb28281",
   "metadata": {
    "tags": []
   },
   "outputs": [
    {
     "data": {
      "text/plain": [
       "array([[1, 1, 1, 1, 1, 1, 1, 1, 1, 1],\n",
       "       [2, 2, 2, 2, 2, 2, 2, 2, 2, 2]])"
      ]
     },
     "execution_count": 117,
     "metadata": {},
     "output_type": "execute_result"
    }
   ],
   "source": [
    "np.stack([a,b])"
   ]
  },
  {
   "cell_type": "markdown",
   "id": "539d5053-c1e9-4c11-93c0-96c1ddb962c1",
   "metadata": {},
   "source": [
    "`(30)` a,b와 np.stack을 이용하여 아래와 같은 배열을 만들어라. \n",
    "```\n",
    "array([[1, 2],\n",
    "       [1, 2],\n",
    "       [1, 2],\n",
    "       [1, 2],\n",
    "       [1, 2],\n",
    "       [1, 2],\n",
    "       [1, 2],\n",
    "       [1, 2],\n",
    "       [1, 2],\n",
    "       [1, 2]])\n",
    "```"
   ]
  },
  {
   "cell_type": "markdown",
   "id": "da098009-6a88-42ef-bcf4-6b9a136a5f02",
   "metadata": {},
   "source": [
    "(풀이)"
   ]
  },
  {
   "cell_type": "code",
   "execution_count": 72,
   "id": "584bd855-8d9f-462b-bb6a-0ad4ac2533f6",
   "metadata": {},
   "outputs": [
    {
     "data": {
      "text/plain": [
       "array([[1, 2],\n",
       "       [1, 2],\n",
       "       [1, 2],\n",
       "       [1, 2],\n",
       "       [1, 2],\n",
       "       [1, 2],\n",
       "       [1, 2],\n",
       "       [1, 2],\n",
       "       [1, 2],\n",
       "       [1, 2]])"
      ]
     },
     "execution_count": 72,
     "metadata": {},
     "output_type": "execute_result"
    }
   ],
   "source": [
    "np.stack([a,b],axis=1)"
   ]
  },
  {
   "cell_type": "markdown",
   "id": "6a64a8df-c944-47e6-a499-421c8b61b704",
   "metadata": {},
   "source": [
    "`(31)` 아래와 같은 배열이 있다고 하자. "
   ]
  },
  {
   "cell_type": "code",
   "execution_count": 118,
   "id": "3739403e-6e96-49e6-bdda-44e3eef1925c",
   "metadata": {
    "tags": []
   },
   "outputs": [],
   "source": [
    "a=np.array([1,2,3,4,5])\n",
    "b=np.array([3,2,1,1,2])"
   ]
  },
  {
   "cell_type": "markdown",
   "id": "d28a7237-c0cc-48bf-9df7-faab770dbbb4",
   "metadata": {},
   "source": [
    "numpy의 `@` 연산자를 이용하여 $\\sum_{i=1}^{5}a_ib_i$를 계산하라. "
   ]
  },
  {
   "cell_type": "markdown",
   "id": "62873da6-2461-4738-bf09-e71c1bd2f275",
   "metadata": {},
   "source": [
    "(풀이)"
   ]
  },
  {
   "cell_type": "code",
   "execution_count": 119,
   "id": "82e8dace-6c23-43e8-933a-68a8ad6c92f3",
   "metadata": {
    "tags": []
   },
   "outputs": [
    {
     "data": {
      "text/plain": [
       "24"
      ]
     },
     "execution_count": 119,
     "metadata": {},
     "output_type": "execute_result"
    }
   ],
   "source": [
    "a@b"
   ]
  },
  {
   "cell_type": "markdown",
   "id": "5fae05d0-2323-494b-aeaf-b0d30c6bd4ea",
   "metadata": {},
   "source": [
    "`(32)` 아래와 같은 배열을 생성하라. \n",
    "```python\n",
    "x=np.random.randn(100)\n",
    "```\n",
    "numpy의 `@`연산자를 이용하여 $\\sum_{i=1}^{100}x_i^2$을 계산하라. "
   ]
  },
  {
   "cell_type": "markdown",
   "id": "6853324b-8bed-4914-92b6-60754d9d3b17",
   "metadata": {},
   "source": [
    "(풀이)"
   ]
  },
  {
   "cell_type": "code",
   "execution_count": 121,
   "id": "b0faad8a-8aa1-4fb3-b358-0d5e3bdbb497",
   "metadata": {
    "tags": []
   },
   "outputs": [
    {
     "data": {
      "text/plain": [
       "105.05036410787191"
      ]
     },
     "execution_count": 121,
     "metadata": {},
     "output_type": "execute_result"
    }
   ],
   "source": [
    "x=np.random.randn(100)\n",
    "x@x"
   ]
  },
  {
   "cell_type": "markdown",
   "id": "4afa4671-2934-4dbf-818f-c3c5be4b0550",
   "metadata": {},
   "source": [
    "`(33)` 아래와 같은 배열을 생성하라. \n",
    "```python\n",
    "a=np.array([1/100]*100)\n",
    "x=np.random.randn(100)\n",
    "```"
   ]
  },
  {
   "cell_type": "markdown",
   "id": "638aed1d-dee3-48a0-80dc-64685fc50f96",
   "metadata": {},
   "source": [
    "numpy의 `@`연산자를 이용하여 $\\frac{1}{n}\\sum_{i=1}^{n}x_i$를 계산하라. "
   ]
  },
  {
   "cell_type": "markdown",
   "id": "601b2019-c826-4485-b362-982ad368b8cb",
   "metadata": {},
   "source": [
    "(풀이)"
   ]
  },
  {
   "cell_type": "code",
   "execution_count": 122,
   "id": "b82c827a-0a47-4595-95fb-b2598e1db82a",
   "metadata": {
    "tags": []
   },
   "outputs": [
    {
     "data": {
      "text/plain": [
       "-0.1001167591601535"
      ]
     },
     "execution_count": 122,
     "metadata": {},
     "output_type": "execute_result"
    }
   ],
   "source": [
    "a=np.array([1/100]*100)\n",
    "x=np.random.randn(100)\n",
    "a@x"
   ]
  },
  {
   "cell_type": "markdown",
   "id": "bb5c0358-caca-4b89-8c3f-e5c2adbb8dc8",
   "metadata": {},
   "source": [
    "`(34)` 표준정규분포에서 100개의 난수를 생성하라. "
   ]
  },
  {
   "cell_type": "markdown",
   "id": "2dff1cbe-81f5-4dd2-8ee9-15f0e4a86fe1",
   "metadata": {},
   "source": [
    "(풀이)"
   ]
  },
  {
   "cell_type": "code",
   "execution_count": 123,
   "id": "f6a6ce85-6d7e-49e7-bbd9-5ea9b8e78e67",
   "metadata": {
    "tags": []
   },
   "outputs": [
    {
     "data": {
      "text/plain": [
       "array([ 0.31711431,  1.6400637 ,  0.62957326,  0.60309882,  0.28725101,\n",
       "       -0.57444327,  1.36399772, -2.08358688, -0.34784616, -0.12098486,\n",
       "       -0.9757397 ,  1.05000504,  0.40590296,  0.82026498, -1.521607  ,\n",
       "        0.64582045,  0.06735191, -1.79658677,  0.47695163, -0.02516122,\n",
       "       -0.50097046,  0.65205246, -1.02838307, -0.15776703,  2.37656065,\n",
       "        0.79636801, -1.89405741, -0.32861177,  0.78985845,  0.65837126,\n",
       "        2.07734891, -0.46545397, -1.47681014, -0.73758059,  2.09020515,\n",
       "        0.47119135,  0.2778476 , -0.21758648, -0.27382746,  0.2964155 ,\n",
       "       -0.50111748,  1.4385097 , -0.25041603,  1.1109526 ,  0.40336714,\n",
       "        0.61522383,  0.94531734,  0.09845967,  0.48863737, -0.39972778,\n",
       "       -0.7904266 ,  0.86215884,  1.10847841, -0.08920999, -0.70469566,\n",
       "       -0.25684976,  0.37064918, -0.2411704 , -0.15710812, -0.21662314,\n",
       "       -1.56795937,  0.65182906,  0.46326511,  1.14476878,  1.39122642,\n",
       "        1.31973411, -0.33975703, -1.06330202,  0.77272637, -0.87861453,\n",
       "        0.29158036, -0.08646412, -0.41420882,  0.38316689, -0.21239744,\n",
       "       -0.56098606, -0.82638183, -0.24218633, -1.11604846, -1.07926793,\n",
       "       -1.31449913,  0.34890093, -1.73768892, -0.02317176, -0.0377639 ,\n",
       "        0.29941218,  0.58992548, -1.77770683,  0.41196003,  1.08143859,\n",
       "        0.16482678, -2.20151794, -0.2184085 , -0.40343873, -0.50531885,\n",
       "       -0.1824003 ,  0.08949454,  0.98724507, -0.31980395, -0.23133046])"
      ]
     },
     "execution_count": 123,
     "metadata": {},
     "output_type": "execute_result"
    }
   ],
   "source": [
    "np.random.randn(100)"
   ]
  },
  {
   "cell_type": "markdown",
   "id": "914f8406-6667-45d1-8772-3c5f0b9e560c",
   "metadata": {},
   "source": [
    "`(35)` 아래와 동일한 코드를 np.random.rand()로 구현하라. \n",
    "```python\n",
    "np.random.uniform(low=2,high=4,size=(5,)) \n",
    "```"
   ]
  },
  {
   "cell_type": "markdown",
   "id": "23d56f26-f879-424a-88f1-f92b8e16cb34",
   "metadata": {},
   "source": [
    "(풀이)"
   ]
  },
  {
   "cell_type": "code",
   "execution_count": 124,
   "id": "bd436ad8-0d3d-4ae2-a451-09ca2cf8a5e3",
   "metadata": {
    "tags": []
   },
   "outputs": [
    {
     "data": {
      "text/plain": [
       "array([3.97152199, 2.37987621, 3.17472796, 3.58691443, 2.3074585 ])"
      ]
     },
     "execution_count": 124,
     "metadata": {},
     "output_type": "execute_result"
    }
   ],
   "source": [
    "np.random.rand(5)*2+2"
   ]
  },
  {
   "cell_type": "markdown",
   "id": "984fa1a8-8b1f-4705-8d86-a1220f2d3b3a",
   "metadata": {},
   "source": [
    "`(36)` 아래와 같은 배열을 선언하라.\n",
    "```python\n",
    "a=np.random.randn(100) \n",
    "```\n",
    "np.where를 이용하여 a의 모든 음수를 0으로 바꾸는 코드를 작성하라. "
   ]
  },
  {
   "cell_type": "markdown",
   "id": "2867934d-d7a0-4880-9856-8e0f1d9dba4b",
   "metadata": {},
   "source": [
    "(풀이)"
   ]
  },
  {
   "cell_type": "code",
   "execution_count": 129,
   "id": "4e338778-93a2-4854-861f-b53b5ee1988d",
   "metadata": {
    "tags": []
   },
   "outputs": [
    {
     "data": {
      "text/plain": [
       "array([0.        , 3.15833999, 0.        , 0.        , 0.        ,\n",
       "       0.        , 0.        , 0.        , 0.        , 0.72578817,\n",
       "       0.        , 0.        , 0.        , 0.        , 1.27538714,\n",
       "       0.        , 0.75836937, 0.        , 0.93031105, 0.        ,\n",
       "       1.15796355, 0.        , 0.        , 0.        , 0.11588567,\n",
       "       0.        , 1.52430016, 0.08572916, 0.        , 0.86266581,\n",
       "       1.77204133, 0.        , 0.        , 0.95590813, 0.        ,\n",
       "       0.        , 0.95351285, 0.44006145, 0.        , 2.22094349,\n",
       "       1.01255669, 0.        , 0.        , 0.        , 0.        ,\n",
       "       0.5443432 , 0.        , 0.40891756, 0.00720772, 0.        ,\n",
       "       0.        , 0.28656257, 0.95811869, 1.64670014, 0.11386864,\n",
       "       0.42679864, 0.        , 0.34569655, 0.53657643, 0.        ,\n",
       "       0.        , 0.02760656, 0.18452053, 0.        , 0.        ,\n",
       "       0.47112259, 0.        , 0.        , 0.        , 1.84972946,\n",
       "       0.31277046, 0.85799113, 0.        , 0.        , 0.        ,\n",
       "       0.        , 0.        , 1.10459124, 0.        , 0.        ,\n",
       "       0.57666087, 1.68493742, 0.        , 0.        , 0.        ,\n",
       "       0.        , 0.        , 0.03454045, 0.5415478 , 0.40731808,\n",
       "       1.39828116, 0.        , 0.        , 0.72188239, 1.19152611,\n",
       "       0.        , 1.21233933, 0.56046858, 0.        , 0.        ])"
      ]
     },
     "execution_count": 129,
     "metadata": {},
     "output_type": "execute_result"
    }
   ],
   "source": [
    "a=np.random.randn(100)\n",
    "np.where(a<0,0,a)"
   ]
  },
  {
   "cell_type": "markdown",
   "id": "50ccb358-b11f-4ea6-afe9-4a8d9b6f960a",
   "metadata": {},
   "source": [
    "`(37)` 아래와 같은 배열을 선언하라. \n",
    "```python\n",
    "a=np.random.randn(100) \n",
    "```"
   ]
  },
  {
   "cell_type": "markdown",
   "id": "3ea9a584-f474-43c6-b0eb-40b09ac4f49f",
   "metadata": {},
   "source": [
    "위 배열의 최소값이 위치한 index를 return하라. "
   ]
  },
  {
   "cell_type": "markdown",
   "id": "29418b03-bc8c-4f63-a4f7-2f7622ebd954",
   "metadata": {},
   "source": [
    "(풀이)"
   ]
  },
  {
   "cell_type": "code",
   "execution_count": 130,
   "id": "91d2aa3b-b576-4eff-921a-188eb3b658dd",
   "metadata": {
    "tags": []
   },
   "outputs": [
    {
     "data": {
      "text/plain": [
       "(array([70], dtype=int64),)"
      ]
     },
     "execution_count": 130,
     "metadata": {},
     "output_type": "execute_result"
    }
   ],
   "source": [
    "a=np.random.randn(100)\n",
    "np.where(a==np.min(a))"
   ]
  },
  {
   "cell_type": "markdown",
   "id": "f03fe9d3-020f-47ba-8bf9-3a924710db14",
   "metadata": {},
   "source": [
    "`(38)` 아래와 같은 배열을 선언하라. "
   ]
  },
  {
   "cell_type": "code",
   "execution_count": 134,
   "id": "d6dcb080-1d71-4a33-a7f1-c9707c2d5771",
   "metadata": {
    "tags": []
   },
   "outputs": [],
   "source": [
    "a=np.arange(12).reshape(3,4)"
   ]
  },
  {
   "cell_type": "markdown",
   "id": "44b0e554-630a-4a0c-84ac-69f2a9f18980",
   "metadata": {},
   "source": [
    "차원의 수를 유지하면서 1열을 추출하는 코드를 작성하라. 즉 결과가 아래와 같이 나오도록 하라. \n",
    "\n",
    "```\n",
    "array([[0],\n",
    "       [4],\n",
    "       [8]])\n",
    "```"
   ]
  },
  {
   "cell_type": "markdown",
   "id": "06f85b43-948b-4387-ba14-de0873822fde",
   "metadata": {},
   "source": [
    "(풀이)"
   ]
  },
  {
   "cell_type": "code",
   "execution_count": 138,
   "id": "48da5e0a-e695-4167-9d5b-ab4c3322eba4",
   "metadata": {
    "tags": []
   },
   "outputs": [
    {
     "data": {
      "text/plain": [
       "array([[0],\n",
       "       [4],\n",
       "       [8]])"
      ]
     },
     "execution_count": 138,
     "metadata": {},
     "output_type": "execute_result"
    }
   ],
   "source": [
    "a[:,[0]]"
   ]
  },
  {
   "cell_type": "markdown",
   "id": "65713ea9-78cf-4025-83b9-4365d79af33d",
   "metadata": {},
   "source": [
    "**(39)-(40)**"
   ]
  },
  {
   "cell_type": "markdown",
   "id": "605574c9-a12b-483b-8b3b-b6d14541f14b",
   "metadata": {},
   "source": [
    "`(39)`  [20,25)의 범위에서 100개의 정수를 랜덤으로 생성해 (10,10) shape의 배열을 만들어라. "
   ]
  },
  {
   "cell_type": "markdown",
   "id": "86b6a3d5-d180-4dbf-8966-64f8e21267ca",
   "metadata": {},
   "source": [
    "(풀이)"
   ]
  },
  {
   "cell_type": "code",
   "execution_count": 141,
   "id": "6c404d36-a6c4-4c07-ba35-7246d442646c",
   "metadata": {
    "tags": []
   },
   "outputs": [],
   "source": [
    "np.random.seed(1)\n",
    "a=np.random.randint(low=20,high=25,size=(10,10))"
   ]
  },
  {
   "cell_type": "markdown",
   "id": "1cc76357-8528-4fac-8ac4-840dacd15f55",
   "metadata": {},
   "source": [
    "`(40)` 39의 결과에서 20,21,22 는 각각 몇개씩 있는가? "
   ]
  },
  {
   "cell_type": "markdown",
   "id": "7bdec63e-97ba-4d73-b784-2f18f3550577",
   "metadata": {},
   "source": [
    "(풀이)"
   ]
  },
  {
   "cell_type": "code",
   "execution_count": 142,
   "id": "037e3616-7996-4cd3-809b-d78aee41b457",
   "metadata": {
    "tags": []
   },
   "outputs": [
    {
     "data": {
      "text/plain": [
       "(21, 24, 15)"
      ]
     },
     "execution_count": 142,
     "metadata": {},
     "output_type": "execute_result"
    }
   ],
   "source": [
    "np.sum(a==20),np.sum(a==21),np.sum(a==22)"
   ]
  },
  {
   "cell_type": "markdown",
   "id": "eec30747-7890-4d60-9816-1753259abd5a",
   "metadata": {
    "tags": []
   },
   "source": [
    "## `2`. 코드구현 II (50점)"
   ]
  },
  {
   "cell_type": "markdown",
   "id": "bd5b5a8f-cbc5-4cb0-81b8-f288ebff560f",
   "metadata": {},
   "source": [
    "---"
   ]
  },
  {
   "cell_type": "markdown",
   "id": "5b024928-3a3d-4def-b5c0-eb85f9a0514b",
   "metadata": {},
   "source": [
    "**(1)-(6)** 아래의 코드를 실해하여 test_dic를 생성하라. "
   ]
  },
  {
   "cell_type": "code",
   "execution_count": 144,
   "id": "3617a71a-717e-4612-8ae1-118854f405b1",
   "metadata": {
    "tags": []
   },
   "outputs": [],
   "source": [
    "np.random.seed(1)\n",
    "att = np.random.choice(np.arange(10,21)*5,200)\n",
    "rep = np.random.choice(np.arange(5,21)*5,200)\n",
    "mid = np.random.choice(np.arange(0,21)*5,200)\n",
    "fin = np.random.choice(np.arange(0,21)*5,200)\n",
    "key = ['202212'+str(s) for s in np.random.choice(np.arange(300,501),200,replace=False)]\n",
    "test_dic = {key[i] : {'att':att[i], 'rep':rep[i], 'mid':mid[i], 'fin':fin[i]} for i in range(200)}\n",
    "del(att);del(rep);del(mid);del(fin);del(key)"
   ]
  },
  {
   "cell_type": "markdown",
   "id": "1653b767-54ae-4726-8169-d6cb559b0a16",
   "metadata": {},
   "source": [
    "여기에서 `202212345`등은 학번을, att는 출석점수, rep는 레포트점수, mid는 중간고사점수, fin은 기말고사 점수를 의미한다. "
   ]
  },
  {
   "cell_type": "markdown",
   "id": "03745379-61a0-4104-9312-39627f70982a",
   "metadata": {},
   "source": [
    "`(1)` test_dic에서 출석점수가 70이상(70>=)인 학생들의 학번을 출력하는 코드를 작성하라. "
   ]
  },
  {
   "cell_type": "markdown",
   "id": "fd82bc79-01d1-487c-98ee-82ba63e25dc9",
   "metadata": {},
   "source": [
    "(풀이)"
   ]
  },
  {
   "cell_type": "code",
   "execution_count": 147,
   "id": "0d044362-4cd2-4245-844f-ae76ae3b8bad",
   "metadata": {
    "tags": []
   },
   "outputs": [],
   "source": [
    "ids= [k for k in test_dic if test_dic[k]['att']>=70]"
   ]
  },
  {
   "cell_type": "markdown",
   "id": "1005593f-0013-4142-8e58-7108e3b91fdf",
   "metadata": {},
   "source": [
    "`(2)` test_dic에서 출석점수가 70미만(<70)인 학생들의 수를 구하라. "
   ]
  },
  {
   "cell_type": "markdown",
   "id": "2145ab2b-a786-4b0c-bba5-aac0d5d66937",
   "metadata": {},
   "source": [
    "(풀이)"
   ]
  },
  {
   "cell_type": "code",
   "execution_count": 151,
   "id": "61b1da37-170f-4b8a-8dd9-6c36527f51ae",
   "metadata": {
    "tags": []
   },
   "outputs": [
    {
     "data": {
      "text/plain": [
       "69"
      ]
     },
     "execution_count": 151,
     "metadata": {},
     "output_type": "execute_result"
    }
   ],
   "source": [
    "len([k for k in test_dic if test_dic[k]['att']<70])"
   ]
  },
  {
   "cell_type": "code",
   "execution_count": 150,
   "id": "0f696a24-5d91-4e31-80b7-0eb003c548a6",
   "metadata": {
    "tags": []
   },
   "outputs": [
    {
     "data": {
      "text/plain": [
       "69"
      ]
     },
     "execution_count": 150,
     "metadata": {},
     "output_type": "execute_result"
    }
   ],
   "source": [
    "sum([test_dic[k]['att']<70 for k in test_dic])"
   ]
  },
  {
   "cell_type": "markdown",
   "id": "88ced793-8e83-4949-b7c8-41242b629383",
   "metadata": {},
   "source": [
    "`(3)` test_dic에서 출석점수가 70이상(70>=)인 학생들의 중간고사 점수의 평균을 계산하라. "
   ]
  },
  {
   "cell_type": "markdown",
   "id": "a67aec11-b6e8-457d-9b03-b6baf796a462",
   "metadata": {},
   "source": [
    "(풀이)"
   ]
  },
  {
   "cell_type": "code",
   "execution_count": 158,
   "id": "96c5055d-94cf-46bd-a946-647f320be08b",
   "metadata": {
    "tags": []
   },
   "outputs": [
    {
     "data": {
      "text/plain": [
       "49.69465648854962"
      ]
     },
     "execution_count": 158,
     "metadata": {},
     "output_type": "execute_result"
    }
   ],
   "source": [
    "np.mean([test_dic[i]['mid'] for i in test_dic if test_dic[i]['att']>=70])"
   ]
  },
  {
   "cell_type": "markdown",
   "id": "1277d556-7a9b-4352-a83e-6191ddfce1ee",
   "metadata": {},
   "source": [
    "`(4)` test_dic에서 중간고사 점수를 출력하는 코드를 작성하라. "
   ]
  },
  {
   "cell_type": "markdown",
   "id": "a7b042b9-9b5e-4aa8-9593-77f962a948f3",
   "metadata": {},
   "source": [
    "(풀이)"
   ]
  },
  {
   "cell_type": "code",
   "execution_count": 161,
   "id": "59bfd176-19da-4467-8493-6ccbe6aa0b2b",
   "metadata": {
    "tags": []
   },
   "outputs": [],
   "source": [
    "mid=[test_dic[k]['mid'] for k in test_dic]"
   ]
  },
  {
   "cell_type": "markdown",
   "id": "fd3bbb77-7fdb-44ae-a6b4-99d767073231",
   "metadata": {},
   "source": [
    "`(5)` test_dic에서 중간고사 점수의 표준편차와 레포트점수의 표준편차를 구하여라. 어떤것이 더 큰가? "
   ]
  },
  {
   "cell_type": "markdown",
   "id": "798aa4f2-bcdf-4b8e-9c19-c7b32be3d765",
   "metadata": {},
   "source": [
    "(풀이)"
   ]
  },
  {
   "cell_type": "code",
   "execution_count": 164,
   "id": "21d89b50-5858-4970-8419-ed645152363d",
   "metadata": {
    "tags": []
   },
   "outputs": [
    {
     "data": {
      "text/plain": [
       "True"
      ]
     },
     "execution_count": 164,
     "metadata": {},
     "output_type": "execute_result"
    }
   ],
   "source": [
    "np.std([test_dic[i]['mid'] for i in test_dic])>np.std([test_dic[i]['rep'] for i in test_dic])"
   ]
  },
  {
   "cell_type": "markdown",
   "id": "a720caee-e15c-4c6c-9c5a-e807d7605fe0",
   "metadata": {},
   "source": [
    "`(6)` test_dic에서 중간고사 점수가 가장 높은 사람의 학번을 출력하라. "
   ]
  },
  {
   "cell_type": "markdown",
   "id": "ef601a47-2e6b-49b4-bb4d-9f1a2c0f3ca3",
   "metadata": {},
   "source": [
    "(풀이)"
   ]
  },
  {
   "cell_type": "code",
   "execution_count": 172,
   "id": "eb669896-5051-4c39-bca9-4357019cb514",
   "metadata": {
    "tags": []
   },
   "outputs": [
    {
     "data": {
      "text/plain": [
       "['202212312', '202212306', '202212304', '202212348', '202212412', '202212443']"
      ]
     },
     "execution_count": 172,
     "metadata": {},
     "output_type": "execute_result"
    }
   ],
   "source": [
    "[i for i in test_dic if test_dic[i]['mid']==max(mid)]"
   ]
  },
  {
   "cell_type": "markdown",
   "id": "4048c636-aef4-419c-9484-0fe05320575e",
   "metadata": {},
   "source": [
    "`(7)` 성공확률이 0.45인 시행이 있다고 하자. 이 시행을 100번의 시행하였을 경우 73번 이상 성공할 확률은 얼마인가? 시뮬레이션을 이용하여 근사계산하라. "
   ]
  },
  {
   "cell_type": "markdown",
   "id": "634e2b34-7c2c-4b1f-a86d-1bf8e3b832f2",
   "metadata": {},
   "source": [
    "(풀이)"
   ]
  },
  {
   "cell_type": "code",
   "execution_count": 178,
   "id": "81b53af3-cfb9-4aab-8b3a-71443da4cdf9",
   "metadata": {
    "tags": []
   },
   "outputs": [
    {
     "data": {
      "text/plain": [
       "0"
      ]
     },
     "execution_count": 178,
     "metadata": {},
     "output_type": "execute_result"
    }
   ],
   "source": [
    "sum(np.random.binomial(n=100,p=0.45 ,size=(1000,)) >= 73)"
   ]
  },
  {
   "cell_type": "markdown",
   "id": "8bbd584a-589d-4ea2-b19d-dafc399578c5",
   "metadata": {},
   "source": [
    "> note: 출제의도: np.random.binomial, bool형의 합"
   ]
  },
  {
   "cell_type": "markdown",
   "id": "074f07b9-84da-4791-961c-61832a728f77",
   "metadata": {},
   "source": [
    "`(8)` 성공확률이 0.45인 시행이 있다고 하자. 이 시행을 100번 시행하였을 경우 10번이하로 실패하거나 90번이상 성공할 확률은 얼마인가? 시뮬레이션을 이용하여 근사계산하라. "
   ]
  },
  {
   "cell_type": "markdown",
   "id": "3869fd3b-1598-4817-8a3a-f2935e753e66",
   "metadata": {},
   "source": [
    "(풀이)"
   ]
  },
  {
   "cell_type": "code",
   "execution_count": 184,
   "id": "cb1d6479-4645-48d8-bc6a-d2b4a4a07ee4",
   "metadata": {
    "tags": []
   },
   "outputs": [
    {
     "data": {
      "text/plain": [
       "0"
      ]
     },
     "execution_count": 184,
     "metadata": {},
     "output_type": "execute_result"
    }
   ],
   "source": [
    "sum((np.random.binomial(n=100,p=0.45,size=1000)<=10)|(np.random.binomial(n=100,p=0.45,size=1000)>=90))"
   ]
  },
  {
   "cell_type": "code",
   "execution_count": 180,
   "id": "492ac55c-5e9c-47cf-9820-371017093b2f",
   "metadata": {
    "tags": []
   },
   "outputs": [
    {
     "data": {
      "text/plain": [
       "0"
      ]
     },
     "execution_count": 180,
     "metadata": {},
     "output_type": "execute_result"
    }
   ],
   "source": [
    "a=np.random.binomial(n=100,p=0.45,size=(1000,))\n",
    "sum((a>=90) | (a<=10))"
   ]
  },
  {
   "cell_type": "code",
   "execution_count": 261,
   "id": "c173cb0f-822b-448b-af0a-cdd88484330a",
   "metadata": {},
   "outputs": [
    {
     "data": {
      "text/plain": [
       "0"
      ]
     },
     "execution_count": 261,
     "metadata": {},
     "output_type": "execute_result"
    }
   ],
   "source": [
    "sum(a>=90) + sum(a<=10) # 이것도 좋은 풀이"
   ]
  },
  {
   "cell_type": "markdown",
   "id": "dbbec876-e84f-476e-95cd-da85b9092fbe",
   "metadata": {},
   "source": [
    "`(9)` 아래와 같은 행렬을 선언하자. "
   ]
  },
  {
   "cell_type": "code",
   "execution_count": 186,
   "id": "4f0af62e-2ee3-456f-a6e9-ec4e79395a2a",
   "metadata": {
    "tags": []
   },
   "outputs": [],
   "source": [
    "A=np.arange(2*1).reshape(2,1)\n",
    "B=np.arange(2*2).reshape(2,2)\n",
    "C=np.arange(2*3).reshape(2,3)\n",
    "D=np.arange(3*3).reshape(3,3)\n",
    "E=np.arange(3*2).reshape(3,2)\n",
    "F=np.arange(3*1).reshape(3,1)"
   ]
  },
  {
   "cell_type": "markdown",
   "id": "c9ab9aaa-c6ad-4d84-88b4-cf49ff8e65cc",
   "metadata": {},
   "source": [
    "아래의 블락매트릭스를 만들어라. "
   ]
  },
  {
   "cell_type": "markdown",
   "id": "04946c74-fe3f-4c06-976e-2970d58ea948",
   "metadata": {},
   "source": [
    "$\\begin{bmatrix}\n",
    "a_{11} & b_{11} & b_{12} & c_{11} & c_{12} & c_{13} \\\\ \n",
    "a_{21} & b_{21} & b_{22} & c_{21} & c_{22} & c_{23} \\\\ \n",
    "d_{11} & d_{12} & d_{13} & e_{11} & e_{12} & f_{11} \\\\ \n",
    "d_{21} & d_{22} & d_{23} & e_{21} & e_{22} & f_{21} \\\\ \n",
    "d_{31} & d_{32} & d_{33} & e_{31} & e_{32} & f_{31} \n",
    "\\end{bmatrix}$"
   ]
  },
  {
   "cell_type": "markdown",
   "id": "21837cbd-b5bf-4db0-b35a-d186098ad185",
   "metadata": {},
   "source": [
    "여기에서 $a_{ij}$는 매트릭스 ${\\bf A}$의 원소이다. "
   ]
  },
  {
   "cell_type": "markdown",
   "id": "60abff8c-a297-474e-bb15-8499e30668ef",
   "metadata": {},
   "source": [
    "(풀이)"
   ]
  },
  {
   "cell_type": "code",
   "execution_count": 190,
   "id": "42e81d22-fa99-4dd1-9f20-8efc5e6e9520",
   "metadata": {
    "tags": []
   },
   "outputs": [
    {
     "data": {
      "text/plain": [
       "array([[0, 0, 1, 0, 1, 2],\n",
       "       [1, 2, 3, 3, 4, 5],\n",
       "       [0, 1, 2, 0, 1, 0],\n",
       "       [3, 4, 5, 2, 3, 1],\n",
       "       [6, 7, 8, 4, 5, 2]])"
      ]
     },
     "execution_count": 190,
     "metadata": {},
     "output_type": "execute_result"
    }
   ],
   "source": [
    "top = np.concatenate([A,B,C],axis=1)\n",
    "bottom = np.concatenate([D,E,F],axis=1)\n",
    "np.concatenate([top,bottom],axis=0)"
   ]
  },
  {
   "cell_type": "markdown",
   "id": "fe5ab7fb-e0f1-4ed4-937f-78f90bc492ba",
   "metadata": {},
   "source": [
    "`(10)` 표준정규분포에 10000개의 난수를 아래와 같이 생성하라. "
   ]
  },
  {
   "cell_type": "code",
   "execution_count": 191,
   "id": "2a7412c2-c068-4fe3-bca1-79afe7b3e684",
   "metadata": {
    "tags": []
   },
   "outputs": [],
   "source": [
    "x=np.random.randn(10000)\n",
    "y=np.random.randn(10000)"
   ]
  },
  {
   "cell_type": "markdown",
   "id": "59b2cc2e-278a-4e91-bc6e-4d2f4f778241",
   "metadata": {},
   "source": [
    "$(i,j)$ 번째 원소가 $(x_i-y_j)^2$인 (10000,10000) 매트릭스를 만들어라. \n",
    "\n"
   ]
  },
  {
   "cell_type": "markdown",
   "id": "c36eee17-127e-4c44-a7b1-d49429a34a60",
   "metadata": {},
   "source": [
    "(풀이)"
   ]
  },
  {
   "cell_type": "code",
   "execution_count": 194,
   "id": "a0303c96-4391-4a50-bc32-39312279e488",
   "metadata": {
    "tags": []
   },
   "outputs": [
    {
     "data": {
      "text/plain": [
       "array([[5.88169279e-01, 2.10305445e-01, 1.79436392e+00, ...,\n",
       "        3.36979546e+00, 1.96786948e-02, 2.67461429e-01],\n",
       "       [1.17034250e+00, 5.98290581e-01, 1.04988089e+00, ...,\n",
       "        2.31282815e+00, 2.07191119e-01, 4.09111270e-02],\n",
       "       [5.53612752e+00, 4.18025197e+00, 6.07312137e-02, ...,\n",
       "        6.23623408e-02, 2.97996152e+00, 1.14235268e+00],\n",
       "       ...,\n",
       "       [1.50672565e-01, 6.37353242e-03, 2.95253773e+00, ...,\n",
       "        4.90381792e+00, 5.68705828e-02, 8.02678098e-01],\n",
       "       [1.58265654e+00, 9.01940622e-01, 7.19823059e-01, ...,\n",
       "        1.80790999e+00, 3.98660403e-01, 6.78701691e-04],\n",
       "       [1.28476573e-01, 2.51051650e-03, 3.05558916e+00, ...,\n",
       "        5.03637047e+00, 7.19338634e-02, 8.56832355e-01]])"
      ]
     },
     "execution_count": 194,
     "metadata": {},
     "output_type": "execute_result"
    }
   ],
   "source": [
    "(x.reshape(10000,1)-y.reshape(1,10000))**2"
   ]
  },
  {
   "cell_type": "markdown",
   "id": "9281ecc9-b687-4cf8-8943-f93e806dd7cf",
   "metadata": {},
   "source": [
    "---"
   ]
  },
  {
   "cell_type": "markdown",
   "id": "6e75324c-d312-4438-a5a9-a979de60af5f",
   "metadata": {},
   "source": [
    "**(11)-(16)** "
   ]
  },
  {
   "cell_type": "markdown",
   "id": "24fb8130-d46e-48e1-affa-dbb67bc7646c",
   "metadata": {},
   "source": [
    "아래와 같은 매트릭스를 생성하라. "
   ]
  },
  {
   "cell_type": "code",
   "execution_count": 196,
   "id": "502f7f9b-0b3b-49ee-bfb1-a7a7a6cbb6c3",
   "metadata": {
    "tags": []
   },
   "outputs": [
    {
     "data": {
      "text/plain": [
       "array([[ 0.38342049,  1.0841745 ,  1.14277825, ..., -0.18506968,\n",
       "         1.05538764,  1.18701443],\n",
       "       [-0.25027283, -1.58045215,  0.1124153 , ...,  1.0321894 ,\n",
       "         0.40438012, -0.13491595],\n",
       "       [-0.76763724, -0.64294232, -0.24782396, ..., -0.01530161,\n",
       "         0.89125897, -0.82683395],\n",
       "       ...,\n",
       "       [-1.41379028,  0.79611333, -0.71011837, ..., -0.9860352 ,\n",
       "         1.30755244,  2.18677233],\n",
       "       [ 1.33968105, -0.78457449, -0.10405858, ..., -0.71110186,\n",
       "         0.99841286,  2.34371635],\n",
       "       [-0.66422032, -0.07550233,  0.7405869 , ...,  1.03232398,\n",
       "        -0.18988252, -0.03578389]])"
      ]
     },
     "execution_count": 196,
     "metadata": {},
     "output_type": "execute_result"
    }
   ],
   "source": [
    "np.random.seed(43052)\n",
    "a=np.random.randn(10000).reshape(100,100)\n",
    "a"
   ]
  },
  {
   "cell_type": "markdown",
   "id": "902be031-f67f-427f-80fe-3b5bbe86adeb",
   "metadata": {},
   "source": [
    "`(11)` 각 행의 합을 구하라. 즉 1행의 합, 2행의 합, ... 100행의 합을 계산하라. \n",
    "- 1행의합 =  0.38342049 + 1.0841745 + ... + 1.18701443"
   ]
  },
  {
   "cell_type": "markdown",
   "id": "935ca4b9-6138-411a-8ee5-3e9409afd469",
   "metadata": {},
   "source": [
    "(풀이)"
   ]
  },
  {
   "cell_type": "code",
   "execution_count": 207,
   "id": "ccc6cacf-f64c-45ff-9384-8874a992968e",
   "metadata": {
    "tags": []
   },
   "outputs": [
    {
     "data": {
      "text/plain": [
       "array([-8.13607922e+00,  9.87120533e+00, -1.41434956e+01, -2.21705363e+00,\n",
       "       -1.45535236e+01, -9.15821678e+00, -2.59866360e+00, -1.54562385e+01,\n",
       "       -1.42005088e+00, -3.51523111e+00,  9.70487578e+00, -1.26229105e+01,\n",
       "        1.66837113e+00,  2.43015457e+00,  2.72990184e+00, -7.99486429e+00,\n",
       "       -8.38305954e-01, -8.45002020e+00, -1.03610098e+00,  2.07251861e+01,\n",
       "        1.11461478e+01,  7.62144075e+00, -7.93734585e+00,  1.82844319e+01,\n",
       "       -2.63562392e+00, -8.97916930e+00, -1.88986183e+00, -9.32477049e+00,\n",
       "       -6.69074565e+00, -1.42463143e+01,  6.45540510e-01,  1.80911488e+00,\n",
       "        2.40997157e+00,  1.63367254e+01,  7.63990677e+00,  8.13524813e+00,\n",
       "        3.97159000e+00, -1.10542949e+00,  4.37564512e-01,  2.87299971e+00,\n",
       "       -4.01016768e+00,  5.71115215e+00, -4.64132698e+00, -9.13987753e+00,\n",
       "       -6.78326000e+00,  3.36308150e+00, -5.13704342e+00, -5.09782466e+00,\n",
       "        6.54192465e-03,  7.19722660e+00, -4.64674820e+00, -9.24124039e+00,\n",
       "        6.73530841e+00,  1.12168921e+00,  1.61615988e+00,  1.37602200e+01,\n",
       "        6.67289840e-01, -2.09578108e+00, -2.81826564e-01, -8.52416541e+00,\n",
       "       -7.21970047e+00,  2.27146777e+01, -1.40341974e+01,  1.69263136e+01,\n",
       "       -1.80568372e+01,  6.52142336e+00, -1.73092812e+01, -1.34999285e+01,\n",
       "       -7.85539317e+00, -4.74940393e-01, -2.75765037e+01,  8.74991555e+00,\n",
       "       -9.77324158e+00,  1.42854121e+01, -1.10130356e+00, -1.39206483e-01,\n",
       "       -1.54638921e+01,  1.36814794e+00,  8.41394160e+00, -2.42153833e+00,\n",
       "       -2.57155344e+01, -6.72423820e+00, -9.49366257e-01,  3.79493472e+00,\n",
       "       -6.23508582e+00,  7.75657189e+00,  9.69403620e+00,  1.46847519e+01,\n",
       "        7.36500792e+00, -2.54755192e+01,  1.22792449e+01, -1.02497847e+01,\n",
       "        1.30452028e+01,  3.92943038e+00, -3.27227585e+00, -1.06633071e+01,\n",
       "       -1.56942302e+01,  8.01451222e+00,  2.81546938e+00,  5.56774384e+00])"
      ]
     },
     "execution_count": 207,
     "metadata": {},
     "output_type": "execute_result"
    }
   ],
   "source": [
    "a.sum(axis=1)"
   ]
  },
  {
   "cell_type": "markdown",
   "id": "63cd52e7-21f1-49d6-a465-7eea16f2b66b",
   "metadata": {},
   "source": [
    "`(12)` `(11)`의 결과로 나온 배열의 표준편차를 구하라. "
   ]
  },
  {
   "cell_type": "markdown",
   "id": "3f317586-9642-403c-8593-c4da82c68232",
   "metadata": {},
   "source": [
    "(풀이)"
   ]
  },
  {
   "cell_type": "code",
   "execution_count": 208,
   "id": "05d7488d-a233-48d2-9543-6710b422a764",
   "metadata": {
    "tags": []
   },
   "outputs": [
    {
     "data": {
      "text/plain": [
       "9.98012658863081"
      ]
     },
     "execution_count": 208,
     "metadata": {},
     "output_type": "execute_result"
    }
   ],
   "source": [
    "a.sum(axis=1).std()"
   ]
  },
  {
   "cell_type": "markdown",
   "id": "064a0e44-140e-4df6-9528-0c5e579a9370",
   "metadata": {},
   "source": [
    "`(13)` 각 열의 평균을 구하라. 즉 1열의 평균, 2열의 평균, ... , 100열의 평균을 계산하라. "
   ]
  },
  {
   "cell_type": "markdown",
   "id": "31e9604f-53f7-4005-b3d3-5e191218543c",
   "metadata": {},
   "source": [
    "(풀이)"
   ]
  },
  {
   "cell_type": "code",
   "execution_count": 209,
   "id": "bbd89e8e-27be-4e54-b36a-589be92fcfca",
   "metadata": {
    "tags": []
   },
   "outputs": [
    {
     "data": {
      "text/plain": [
       "array([ 5.05543481e-03, -8.11250975e-03, -7.27142023e-03,  9.64876493e-02,\n",
       "        5.64186324e-02, -2.22728206e-02,  1.32808256e-04, -9.60905067e-02,\n",
       "        9.42144096e-02, -1.21946518e-01, -2.21878576e-02, -3.77018716e-02,\n",
       "        2.35739166e-03, -1.13202128e-01, -9.00374437e-02, -3.09372275e-02,\n",
       "       -2.18029121e-02,  7.04210003e-02, -4.12563112e-02,  2.58233488e-02,\n",
       "        1.16578817e-01, -1.59430241e-01, -1.53668953e-02,  9.21879710e-02,\n",
       "       -1.11346500e-01, -1.20131585e-01,  5.94139652e-02, -3.27022797e-02,\n",
       "       -1.46466366e-02, -1.78386785e-02, -1.06650333e-01, -9.04542721e-02,\n",
       "       -8.52586244e-02,  5.52166280e-02,  1.94115122e-01,  4.64389603e-02,\n",
       "        5.13636914e-02,  1.11424801e-01, -4.18629084e-02,  9.23822150e-02,\n",
       "       -2.00433998e-02, -5.73784795e-02, -8.79928414e-02, -3.01766235e-02,\n",
       "        6.47256326e-02,  3.14419234e-02, -1.16146865e-01, -1.04800787e-01,\n",
       "        3.17924308e-02,  5.51687322e-02,  1.04913214e-01, -2.79741703e-03,\n",
       "        2.56767141e-01, -1.35620430e-01, -9.59492302e-02,  1.23241275e-01,\n",
       "       -5.26436946e-03, -3.14823093e-02, -4.00286104e-02, -1.48618576e-01,\n",
       "        4.85988487e-02, -1.37972086e-01, -1.04715966e-01, -7.13893940e-02,\n",
       "        4.35483376e-02, -2.10610822e-01, -1.03231108e-01, -1.62132451e-01,\n",
       "        2.85187037e-01, -8.25697744e-02,  4.33723229e-02,  1.32763889e-02,\n",
       "       -1.61919484e-01, -5.07924036e-02,  6.62243327e-02, -9.72863991e-02,\n",
       "        2.71962223e-01, -5.97710822e-02,  1.54580795e-01, -5.46739064e-02,\n",
       "       -1.08611574e-01, -1.56520706e-01, -1.40476317e-01,  1.06067589e-01,\n",
       "       -3.46141736e-02, -6.07673046e-02,  5.33471760e-03,  8.10276105e-02,\n",
       "       -1.31994569e-01, -1.00936968e-02,  6.13944222e-02, -9.72765699e-02,\n",
       "        1.61342793e-01,  1.02634369e-01, -5.03038014e-02, -7.50604837e-02,\n",
       "        2.63992605e-02,  6.98470602e-02, -1.89567885e-01,  7.91910813e-02])"
      ]
     },
     "execution_count": 209,
     "metadata": {},
     "output_type": "execute_result"
    }
   ],
   "source": [
    "a.mean(axis=0)"
   ]
  },
  {
   "cell_type": "markdown",
   "id": "d6e22501-0b4b-4d82-aeed-cfe9ad42b268",
   "metadata": {},
   "source": [
    "`(14)` `(13)`의 결과로 나온 배열의 표준편차를 구하라."
   ]
  },
  {
   "cell_type": "markdown",
   "id": "6b5bdf9f-5450-4892-bbab-1ab6a5be326e",
   "metadata": {},
   "source": [
    "(풀이)"
   ]
  },
  {
   "cell_type": "code",
   "execution_count": 210,
   "id": "98443b2c-7036-4d21-96e0-9ef50b287807",
   "metadata": {
    "tags": []
   },
   "outputs": [
    {
     "data": {
      "text/plain": [
       "0.0994499200006578"
      ]
     },
     "execution_count": 210,
     "metadata": {},
     "output_type": "execute_result"
    }
   ],
   "source": [
    "a.mean(axis=0).std()"
   ]
  },
  {
   "cell_type": "markdown",
   "id": "036327cc-3ce7-4480-bb7b-538cbd3cb0d6",
   "metadata": {},
   "source": [
    "`(15)` a의 원소중 a>0 을 만족하는 원소의 평균을 구하여라. "
   ]
  },
  {
   "cell_type": "markdown",
   "id": "df5c84f2-77d8-4783-b3ed-cb6e27097cdc",
   "metadata": {},
   "source": [
    "(풀이)"
   ]
  },
  {
   "cell_type": "code",
   "execution_count": 212,
   "id": "c7ef620c-670d-4591-8009-39acb6c1375b",
   "metadata": {
    "tags": []
   },
   "outputs": [
    {
     "data": {
      "text/plain": [
       "0.7879030416692301"
      ]
     },
     "execution_count": 212,
     "metadata": {},
     "output_type": "execute_result"
    }
   ],
   "source": [
    "a[a>0].mean()"
   ]
  },
  {
   "cell_type": "markdown",
   "id": "9f56e8ea-5c66-4080-b585-60da2834c71a",
   "metadata": {},
   "source": [
    "`(16)` a의 원소중 a>3을 만족하는 원소의 수를 count하라. "
   ]
  },
  {
   "cell_type": "markdown",
   "id": "6930c855-f724-4b9e-a1c0-a60666eb8a75",
   "metadata": {},
   "source": [
    "(풀이)"
   ]
  },
  {
   "cell_type": "code",
   "execution_count": 215,
   "id": "5452e6a6-7d68-4c02-9e76-2256ce5fd57b",
   "metadata": {
    "tags": []
   },
   "outputs": [
    {
     "data": {
      "text/plain": [
       "17"
      ]
     },
     "execution_count": 215,
     "metadata": {},
     "output_type": "execute_result"
    }
   ],
   "source": [
    "np.sum(a>3)"
   ]
  },
  {
   "cell_type": "markdown",
   "id": "4293729b-422f-403c-a771-f215cecb6fca",
   "metadata": {},
   "source": [
    "**(17)-(18)**"
   ]
  },
  {
   "cell_type": "markdown",
   "id": "56b1b14e-7287-4834-8cdb-bec904d6e0b0",
   "metadata": {},
   "source": [
    "아래와 같은 배열 a를 고려하자. "
   ]
  },
  {
   "cell_type": "code",
   "execution_count": 219,
   "id": "8f1efaa7-4943-438d-b184-e08862280265",
   "metadata": {
    "tags": []
   },
   "outputs": [
    {
     "data": {
      "text/plain": [
       "array([1, 0, 1, ..., 1, 1, 0])"
      ]
     },
     "execution_count": 219,
     "metadata": {},
     "output_type": "execute_result"
    }
   ],
   "source": [
    "np.random.seed(43052)\n",
    "a=np.random.binomial(1,0.2,size=(10000,))\n",
    "a"
   ]
  },
  {
   "cell_type": "markdown",
   "id": "a6bbcced-1401-40f9-a7ff-df319b956a97",
   "metadata": {},
   "source": [
    "`(17)` 0에서 1로 바뀌는 부분을 count하라. "
   ]
  },
  {
   "cell_type": "markdown",
   "id": "029eefcb-ef29-46a8-86a3-7e679b87ac19",
   "metadata": {},
   "source": [
    "(풀이)"
   ]
  },
  {
   "cell_type": "code",
   "execution_count": 220,
   "id": "12525160-485d-42be-961a-164753f26927",
   "metadata": {
    "tags": []
   },
   "outputs": [
    {
     "data": {
      "text/plain": [
       "1617"
      ]
     },
     "execution_count": 220,
     "metadata": {},
     "output_type": "execute_result"
    }
   ],
   "source": [
    "np.sum(np.diff(a)==1)"
   ]
  },
  {
   "cell_type": "markdown",
   "id": "7b565358-555a-40ae-b192-cf7448412f6a",
   "metadata": {},
   "source": [
    "`(18)` 1에서 0으로 바뀌는 부분을 count하라. "
   ]
  },
  {
   "cell_type": "markdown",
   "id": "62571a0c-6c5a-4b37-baab-cd216653622e",
   "metadata": {},
   "source": [
    "(풀이)"
   ]
  },
  {
   "cell_type": "code",
   "execution_count": 221,
   "id": "f541bcc9-bcd1-47b3-bcda-e7ca80423ca1",
   "metadata": {
    "tags": []
   },
   "outputs": [
    {
     "data": {
      "text/plain": [
       "1618"
      ]
     },
     "execution_count": 221,
     "metadata": {},
     "output_type": "execute_result"
    }
   ],
   "source": [
    "np.sum(np.diff(a)==-1)"
   ]
  },
  {
   "cell_type": "markdown",
   "id": "be49451a-c9b3-4d63-9531-531e59cc377f",
   "metadata": {},
   "source": [
    "**(19)-(25)**"
   ]
  },
  {
   "cell_type": "markdown",
   "id": "9bd9339f-279e-4344-892b-2815ca8ec85a",
   "metadata": {},
   "source": [
    "`(19)` $i=1,2,\\dots,1000$에 대하여 아래를 각각 구하라. \n",
    "\n",
    "$$x_i= \\cos(t_i)+\\cos(3t_i)+\\cos(5t_i)$$\n",
    "\n",
    "$$y_i= \\sin(t_i)+\\sin(4t_i)$$\n",
    "\n",
    "여기에서 $t_i=\\frac{2\\pi i }{1000}$ 이다. "
   ]
  },
  {
   "cell_type": "markdown",
   "id": "10056225-8708-414c-b9a1-e40675d17471",
   "metadata": {},
   "source": [
    "(풀이)"
   ]
  },
  {
   "cell_type": "code",
   "execution_count": 225,
   "id": "6cbf8cf6-4a1b-4754-929d-a2108accc95b",
   "metadata": {
    "tags": []
   },
   "outputs": [],
   "source": [
    "i=np.arange(1,1001)\n",
    "ti = i*2*np.pi/1000\n",
    "x=np.cos(ti)+np.cos(3*ti)+np.cos(5*ti)\n",
    "y=np.sin(ti)+np.sin(4*ti)"
   ]
  },
  {
   "cell_type": "markdown",
   "id": "b24436c6-b626-482e-a03c-3d48314d8bcf",
   "metadata": {},
   "source": [
    "`(20)` $(x_i,y_i)$를 그려라. "
   ]
  },
  {
   "cell_type": "markdown",
   "id": "ce56734d-b6c0-49b5-8ae7-71ac02ffdf2e",
   "metadata": {},
   "source": [
    "(풀이)"
   ]
  },
  {
   "cell_type": "code",
   "execution_count": 226,
   "id": "65370c60-3150-47eb-b622-c30ab68ffd85",
   "metadata": {
    "tags": []
   },
   "outputs": [
    {
     "data": {
      "text/plain": [
       "[<matplotlib.lines.Line2D at 0x1a49b21ca00>]"
      ]
     },
     "execution_count": 226,
     "metadata": {},
     "output_type": "execute_result"
    },
    {
     "data": {
      "image/png": "[encoded data removed]",
      "text/plain": [
       "<Figure size 640x480 with 1 Axes>"
      ]
     },
     "metadata": {},
     "output_type": "display_data"
    }
   ],
   "source": [
    "plt.plot(x,y)"
   ]
  },
  {
   "cell_type": "markdown",
   "id": "aed714f4-b02a-4957-8b16-0256eccd3594",
   "metadata": {},
   "source": [
    "`(21)` 아래와 같은 변환을 통하여 $(w_i,z_i)$를 얻어라. \n",
    "\n",
    "\n",
    "$$w_i= \\frac{1}{\\sqrt{2}}x_i - \\frac{1}{\\sqrt{2}}y_i$$\n",
    "\n",
    "$$z_i= \\frac{1}{\\sqrt{2}}x_i + \\frac{1}{\\sqrt{2}}y_i$$\n"
   ]
  },
  {
   "cell_type": "markdown",
   "id": "636bc221-c318-4ec7-8f05-7f3b2dfd1ff1",
   "metadata": {},
   "source": [
    "$(w_i,z_i)$를 시각화 하라. "
   ]
  },
  {
   "cell_type": "markdown",
   "id": "eec09b37-1860-4600-ab24-806f94a5406f",
   "metadata": {},
   "source": [
    "(풀이)"
   ]
  },
  {
   "cell_type": "code",
   "execution_count": 228,
   "id": "2609f07a-4817-42a1-967f-5c548375950f",
   "metadata": {
    "tags": []
   },
   "outputs": [
    {
     "data": {
      "text/plain": [
       "[<matplotlib.lines.Line2D at 0x1a498eca520>]"
      ]
     },
     "execution_count": 228,
     "metadata": {},
     "output_type": "execute_result"
    },
    {
     "data": {
      "image/png": "[encoded data removed]",
      "text/plain": [
       "<Figure size 640x480 with 1 Axes>"
      ]
     },
     "metadata": {},
     "output_type": "display_data"
    }
   ],
   "source": [
    "w=1/np.sqrt(2)*x-1/np.sqrt(2)*y\n",
    "z=1/np.sqrt(2)*x+1/np.sqrt(2)*y\n",
    "plt.plot(w,z)"
   ]
  },
  {
   "cell_type": "markdown",
   "id": "24572a42-4cb9-4cbd-af53-20748e763582",
   "metadata": {},
   "source": [
    "`(22)` 아래와 같은 매트릭스를 만들어라. \n",
    "\n",
    "$${\\bf A}=\\begin{bmatrix}\n",
    "x_1 & y_1 \\\\\n",
    "x_2 & y_2 \\\\ \n",
    "\\dots & \\dots \\\\ \n",
    "x_n & y_n \n",
    "\\end{bmatrix}$$"
   ]
  },
  {
   "cell_type": "markdown",
   "id": "71c5891f-43ad-4fce-9707-2db55051a389",
   "metadata": {},
   "source": [
    "(풀이)"
   ]
  },
  {
   "cell_type": "code",
   "execution_count": 231,
   "id": "616bc2d2-6a07-4cbc-a5c0-439dcbbb3635",
   "metadata": {
    "tags": []
   },
   "outputs": [],
   "source": [
    "a1 = np.stack([x,y]).T"
   ]
  },
  {
   "cell_type": "code",
   "execution_count": 232,
   "id": "ce34cb3e-abf0-4284-88c6-559864047e03",
   "metadata": {
    "tags": []
   },
   "outputs": [
    {
     "data": {
      "text/plain": [
       "array([[ 2.99930917e+00,  3.14132394e-02],\n",
       "       [ 2.99723725e+00,  6.28103581e-02],\n",
       "       [ 2.99378587e+00,  9.41752452e-02],\n",
       "       ...,\n",
       "       [ 2.99723725e+00, -6.28103581e-02],\n",
       "       [ 2.99930917e+00, -3.14132394e-02],\n",
       "       [ 3.00000000e+00, -1.22464680e-15]])"
      ]
     },
     "execution_count": 232,
     "metadata": {},
     "output_type": "execute_result"
    }
   ],
   "source": [
    "A=np.stack([x,y],axis=1)\n",
    "A"
   ]
  },
  {
   "cell_type": "markdown",
   "id": "d97608c0-7bc0-4f53-8681-59b20752711a",
   "metadata": {},
   "source": [
    "`(23)` ${\\bf A} {\\bf B}$의 첫번째 열과 두번째 열을 시각화한 결과가 $(w_i,z_i)$과 동일하도록 적당한 (2,2) 매트릭스 ${\\bf B}$를 만들어라. "
   ]
  },
  {
   "cell_type": "markdown",
   "id": "827fb272-4433-47bd-8dcf-93acbdf43655",
   "metadata": {},
   "source": [
    "(풀이)"
   ]
  },
  {
   "cell_type": "code",
   "execution_count": 226,
   "id": "5fcc1b5b-25f8-4ea6-bdfc-f6d686aa10fa",
   "metadata": {},
   "outputs": [
    {
     "data": {
      "text/plain": [
       "[<matplotlib.lines.Line2D at 0x7f769f644b80>]"
      ]
     },
     "execution_count": 226,
     "metadata": {},
     "output_type": "execute_result"
    },
    {
     "data": {
      "image/png": "[encoded data removed]",
      "text/plain": [
       "<Figure size 432x288 with 1 Axes>"
      ]
     },
     "metadata": {
      "needs_background": "light"
     },
     "output_type": "display_data"
    }
   ],
   "source": [
    "B= np.array([[1/np.sqrt(2), 1/np.sqrt(2)],[-1/np.sqrt(2), 1/np.sqrt(2)]])\n",
    "#B= np.array([[1, 1],[-1, 1]])/np.sqrt(2)\n",
    "plt.plot(A@B[:,0],A@B[:,1])"
   ]
  },
  {
   "cell_type": "markdown",
   "id": "b9ffcf82-7951-418e-86ec-3e78f0656326",
   "metadata": {},
   "source": [
    "> note: 출제의도: 행렬의 수식표현, 행렬의 곱"
   ]
  },
  {
   "cell_type": "markdown",
   "id": "b2465f5b-2a79-40ed-a817-6498a6ff4563",
   "metadata": {},
   "source": [
    "`(24)` ${\\bf A}{\\bf B}^2$의 첫번째 열과 두번째 열을 시각화 하라. "
   ]
  },
  {
   "cell_type": "markdown",
   "id": "db0617f1-73d4-451d-bc4a-5140fc229f2c",
   "metadata": {},
   "source": [
    "(풀이)"
   ]
  },
  {
   "cell_type": "code",
   "execution_count": 227,
   "id": "b4fd19b9-27d1-4484-9af1-59c99ac73f9f",
   "metadata": {},
   "outputs": [
    {
     "data": {
      "text/plain": [
       "[<matplotlib.lines.Line2D at 0x7f769f5e7190>]"
      ]
     },
     "execution_count": 227,
     "metadata": {},
     "output_type": "execute_result"
    },
    {
     "data": {
      "image/png": "[encoded data removed]",
      "text/plain": [
       "<Figure size 432x288 with 1 Axes>"
      ]
     },
     "metadata": {
      "needs_background": "light"
     },
     "output_type": "display_data"
    }
   ],
   "source": [
    "plt.plot((A@B@B)[:,0],(A@B@B)[:,1])"
   ]
  },
  {
   "cell_type": "markdown",
   "id": "e88e081c-ca8e-4fd1-bffb-bfb17b2c736b",
   "metadata": {},
   "source": [
    "> note: 출제의도: 행렬의 곱"
   ]
  },
  {
   "cell_type": "markdown",
   "id": "aec1eeaf-ba36-485b-9847-410a9a06201c",
   "metadata": {},
   "source": [
    "`(25)` $n=3,4,5,6,\\dots$ 에 대하여 ${\\bf A}{\\bf B}^n$을 반복적으로 그려보라. $(x_i,y_i)$의 시각화 결과와 동일한 가장 작은 $n$은 얼마인가?  $(w_i,z_i)$의 시각화 결과와 동일한 가장 작은 $n$은 얼마인가? "
   ]
  },
  {
   "cell_type": "markdown",
   "id": "54486437-3e11-48fc-a718-097859d67857",
   "metadata": {},
   "source": [
    "(풀이)"
   ]
  },
  {
   "cell_type": "code",
   "execution_count": 228,
   "id": "e800f6e7-a771-4edd-bcaf-e0bd7cc9731e",
   "metadata": {},
   "outputs": [
    {
     "data": {
      "text/plain": [
       "[<matplotlib.lines.Line2D at 0x7f769fcc25b0>]"
      ]
     },
     "execution_count": 228,
     "metadata": {},
     "output_type": "execute_result"
    },
    {
     "data": {
      "image/png": "[encoded data removed]",
      "text/plain": [
       "<Figure size 432x288 with 1 Axes>"
      ]
     },
     "metadata": {
      "needs_background": "light"
     },
     "output_type": "display_data"
    }
   ],
   "source": [
    "plt.plot((A@B@B@B)[:,0],(A@B@B@B)[:,1]) ## n=3"
   ]
  },
  {
   "cell_type": "code",
   "execution_count": 229,
   "id": "cfc076f8-a1fd-4196-8f72-4d8dd888fa30",
   "metadata": {},
   "outputs": [
    {
     "data": {
      "text/plain": [
       "[<matplotlib.lines.Line2D at 0x7f769f4e8040>]"
      ]
     },
     "execution_count": 229,
     "metadata": {},
     "output_type": "execute_result"
    },
    {
     "data": {
      "image/png": "[encoded data removed]",
      "text/plain": [
       "<Figure size 432x288 with 1 Axes>"
      ]
     },
     "metadata": {
      "needs_background": "light"
     },
     "output_type": "display_data"
    }
   ],
   "source": [
    "plt.plot((A@B@B@B@B)[:,0],(A@B@B@B@B)[:,1]) ## n=4"
   ]
  },
  {
   "cell_type": "code",
   "execution_count": 231,
   "id": "db38dd93-c425-4343-96e5-fb5d5759f063",
   "metadata": {},
   "outputs": [
    {
     "data": {
      "text/plain": [
       "array([[1., 0.],\n",
       "       [0., 1.]])"
      ]
     },
     "execution_count": 231,
     "metadata": {},
     "output_type": "execute_result"
    }
   ],
   "source": [
    "(B@B)@(B@B)@(B@B)@(B@B)"
   ]
  },
  {
   "cell_type": "code",
   "execution_count": 232,
   "id": "f2a0e9b2-4a79-4227-8bb1-96cc971fd55c",
   "metadata": {},
   "outputs": [
    {
     "data": {
      "text/plain": [
       "array([[ 0.70710678,  0.70710678],\n",
       "       [-0.70710678,  0.70710678]])"
      ]
     },
     "execution_count": 232,
     "metadata": {},
     "output_type": "execute_result"
    }
   ],
   "source": [
    "(B@B)@(B@B)@(B@B)@(B@B)@B"
   ]
  },
  {
   "cell_type": "markdown",
   "id": "396c8038-4332-4a9e-92fe-b72b4bf4a7c2",
   "metadata": {},
   "source": [
    "- 답: $(x_i,y_i)$의 시각화 결과와 동일한 가장 작은 $n=8$ 이고 $(w_i,z_i)$의 시각화 결과와 동일한 가장 작은 $n=9$ 이다."
   ]
  }
 ],
 "metadata": {
  "kernelspec": {
   "display_name": "Python 3 (ipykernel)",
   "language": "python",
   "name": "python3"
  },
  "language_info": {
   "codemirror_mode": {
    "name": "ipython",
    "version": 3
   },
   "file_extension": ".py",
   "mimetype": "text/x-python",
   "name": "python",
   "nbconvert_exporter": "python",
   "pygments_lexer": "ipython3",
   "version": "3.8.8"
  }
 },
 "nbformat": 4,
 "nbformat_minor": 5
}

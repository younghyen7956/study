{
 "cells": [
  {
   "cell_type": "code",
   "execution_count": 2,
   "id": "77d78c3c-96f0-4a0c-a0c6-88629b38d91a",
   "metadata": {
    "tags": []
   },
   "outputs": [],
   "source": [
    "import matplotlib.pyplot as plt\n",
    "import numpy as np\n",
    "import plotly.express as px\n",
    "import pandas as pd\n",
    "from IPython.display import HTML\n",
    "import seaborn as sns\n",
    "#from plotnine import *\n",
    "import plotly.figure_factory as ff\n",
    "import cv2 as cv\n",
    "from scipy import stats\n",
    "import rpy2\n",
    "import folium\n",
    "import json\n",
    "import requests\n",
    "import warnings\n",
    "from pandas_datareader import data as pdr\n",
    "from sklearn.linear_model import LinearRegression"
   ]
  },
  {
   "cell_type": "code",
   "execution_count": 3,
   "id": "708368f0-0ae6-454d-a51f-07350a287025",
   "metadata": {
    "tags": []
   },
   "outputs": [],
   "source": [
    "df=pd.read_csv('player_stats.csv')"
   ]
  },
  {
   "cell_type": "code",
   "execution_count": 4,
   "id": "86d0f67a-f1a3-4a2c-bb89-41a7122c70dd",
   "metadata": {
    "tags": []
   },
   "outputs": [
    {
     "data": {
      "text/plain": [
       "(5682, 41)"
      ]
     },
     "execution_count": 4,
     "metadata": {},
     "output_type": "execute_result"
    }
   ],
   "source": [
    "df.shape"
   ]
  },
  {
   "cell_type": "code",
   "execution_count": 5,
   "id": "4ebcf7f9-9748-4724-96c1-1f5ef8d622bc",
   "metadata": {},
   "outputs": [
    {
     "data": {
      "text/plain": [
       "player              0\n",
       "country             0\n",
       "height              0\n",
       "weight              0\n",
       "age                 0\n",
       "club                0\n",
       "ball_control        0\n",
       "dribbling           0\n",
       "marking           158\n",
       "slide_tackle        0\n",
       "stand_tackle        0\n",
       "aggression          0\n",
       "reactions           0\n",
       "att_position        0\n",
       "interceptions       0\n",
       "vision              0\n",
       "composure           0\n",
       "crossing            0\n",
       "short_pass          0\n",
       "long_pass           0\n",
       "acceleration        0\n",
       "stamina             0\n",
       "strength            0\n",
       "balance             0\n",
       "sprint_speed        0\n",
       "agility             0\n",
       "jumping             0\n",
       "heading             0\n",
       "shot_power          0\n",
       "finishing           0\n",
       "long_shots          0\n",
       "curve               0\n",
       "fk_acc              0\n",
       "penalties           0\n",
       "volleys             0\n",
       "gk_positioning      0\n",
       "gk_diving           0\n",
       "gk_handling         0\n",
       "gk_kicking          0\n",
       "gk_reflexes         0\n",
       "value               0\n",
       "dtype: int64"
      ]
     },
     "execution_count": 5,
     "metadata": {},
     "output_type": "execute_result"
    }
   ],
   "source": [
    "df.isnull().sum()"
   ]
  },
  {
   "cell_type": "markdown",
   "id": "48942865-9140-4dc3-8cff-367880276932",
   "metadata": {},
   "source": [
    "### marking열이 전부 의미가 없는 데이터로 이루어져 있어서 결측치를 제거"
   ]
  },
  {
   "cell_type": "code",
   "execution_count": 6,
   "id": "174d3e01-206e-4819-a843-a660650b4cf8",
   "metadata": {
    "tags": []
   },
   "outputs": [],
   "source": [
    "df=df.dropna(axis=1)"
   ]
  },
  {
   "cell_type": "markdown",
   "id": "d11658e6-d60c-48d7-93bc-de68c26563fa",
   "metadata": {},
   "source": [
    "선수 가치 앞에 달러 표시가 있어서 전처리"
   ]
  },
  {
   "cell_type": "code",
   "execution_count": 7,
   "id": "cef2041b-d5f7-482e-aaad-864439a1f137",
   "metadata": {
    "tags": []
   },
   "outputs": [],
   "source": [
    "df = df.assign(value=list(map(lambda x: str(x.replace('$','')),df.value)))"
   ]
  },
  {
   "cell_type": "code",
   "execution_count": 8,
   "id": "b362cedc-ba0c-408d-b07e-4da9c10d780c",
   "metadata": {
    "tags": []
   },
   "outputs": [],
   "source": [
    "df = df.assign(value=list(map(lambda x: (x.replace('.','')),df.value)))"
   ]
  },
  {
   "cell_type": "code",
   "execution_count": 9,
   "id": "8b162d2d-7ea0-4cbb-9b0e-d7d1eff0e314",
   "metadata": {
    "tags": []
   },
   "outputs": [],
   "source": [
    "df['value']=df['value'].astype('float')"
   ]
  },
  {
   "cell_type": "markdown",
   "id": "165248c7-0151-4277-b4db-0d432e1d2b61",
   "metadata": {},
   "source": [
    "중복선수가 있어서 제거"
   ]
  },
  {
   "cell_type": "code",
   "execution_count": 10,
   "id": "ef9fd77c-271d-447e-9a87-aa03ed9694e3",
   "metadata": {
    "tags": []
   },
   "outputs": [],
   "source": [
    "df=df.drop([5675,5678],axis=0)"
   ]
  },
  {
   "cell_type": "code",
   "execution_count": 11,
   "id": "1eb5da2a-d7d1-4b22-88a3-59e100b9d1c1",
   "metadata": {
    "tags": []
   },
   "outputs": [],
   "source": [
    "df=df.drop_duplicates(['player'])"
   ]
  },
  {
   "cell_type": "markdown",
   "id": "d0df478d-363a-48b6-ade5-c22c95deae2f",
   "metadata": {
    "tags": []
   },
   "source": [
    "키 몸무게 나이와 fifa에서 측정한 능력치 수치값들의 통계적 수치 파악"
   ]
  },
  {
   "cell_type": "code",
   "execution_count": 12,
   "id": "722a0087-a2c5-4ff2-ba12-64d56892644b",
   "metadata": {
    "tags": []
   },
   "outputs": [
    {
     "data": {
      "text/html": [
       "<div>\n",
       "<style scoped>\n",
       "    .dataframe tbody tr th:only-of-type {\n",
       "        vertical-align: middle;\n",
       "    }\n",
       "\n",
       "    .dataframe tbody tr th {\n",
       "        vertical-align: top;\n",
       "    }\n",
       "\n",
       "    .dataframe thead th {\n",
       "        text-align: right;\n",
       "    }\n",
       "</style>\n",
       "<table border=\"1\" class=\"dataframe\">\n",
       "  <thead>\n",
       "    <tr style=\"text-align: right;\">\n",
       "      <th></th>\n",
       "      <th>height</th>\n",
       "      <th>weight</th>\n",
       "      <th>age</th>\n",
       "      <th>ball_control</th>\n",
       "      <th>dribbling</th>\n",
       "      <th>slide_tackle</th>\n",
       "      <th>stand_tackle</th>\n",
       "      <th>aggression</th>\n",
       "      <th>reactions</th>\n",
       "      <th>att_position</th>\n",
       "      <th>...</th>\n",
       "      <th>curve</th>\n",
       "      <th>fk_acc</th>\n",
       "      <th>penalties</th>\n",
       "      <th>volleys</th>\n",
       "      <th>gk_positioning</th>\n",
       "      <th>gk_diving</th>\n",
       "      <th>gk_handling</th>\n",
       "      <th>gk_kicking</th>\n",
       "      <th>gk_reflexes</th>\n",
       "      <th>value</th>\n",
       "    </tr>\n",
       "  </thead>\n",
       "  <tbody>\n",
       "    <tr>\n",
       "      <th>count</th>\n",
       "      <td>5655.000000</td>\n",
       "      <td>5655.000000</td>\n",
       "      <td>5655.000000</td>\n",
       "      <td>5655.000000</td>\n",
       "      <td>5655.000000</td>\n",
       "      <td>5655.000000</td>\n",
       "      <td>5655.000000</td>\n",
       "      <td>5655.000000</td>\n",
       "      <td>5655.000000</td>\n",
       "      <td>5655.000000</td>\n",
       "      <td>...</td>\n",
       "      <td>5655.000000</td>\n",
       "      <td>5655.000000</td>\n",
       "      <td>5655.000000</td>\n",
       "      <td>5655.000000</td>\n",
       "      <td>5655.000000</td>\n",
       "      <td>5655.000000</td>\n",
       "      <td>5655.000000</td>\n",
       "      <td>5655.000000</td>\n",
       "      <td>5655.000000</td>\n",
       "      <td>5.655000e+03</td>\n",
       "    </tr>\n",
       "    <tr>\n",
       "      <th>mean</th>\n",
       "      <td>181.669496</td>\n",
       "      <td>75.285411</td>\n",
       "      <td>26.311936</td>\n",
       "      <td>58.901680</td>\n",
       "      <td>56.132980</td>\n",
       "      <td>46.723254</td>\n",
       "      <td>48.818214</td>\n",
       "      <td>56.311760</td>\n",
       "      <td>61.949956</td>\n",
       "      <td>50.717241</td>\n",
       "      <td>...</td>\n",
       "      <td>48.111052</td>\n",
       "      <td>43.310345</td>\n",
       "      <td>48.169938</td>\n",
       "      <td>42.933156</td>\n",
       "      <td>16.179841</td>\n",
       "      <td>16.435013</td>\n",
       "      <td>16.186030</td>\n",
       "      <td>16.071264</td>\n",
       "      <td>16.563572</td>\n",
       "      <td>2.232476e+06</td>\n",
       "    </tr>\n",
       "    <tr>\n",
       "      <th>std</th>\n",
       "      <td>6.829772</td>\n",
       "      <td>6.997010</td>\n",
       "      <td>4.727333</td>\n",
       "      <td>16.574533</td>\n",
       "      <td>18.768138</td>\n",
       "      <td>20.527169</td>\n",
       "      <td>20.980397</td>\n",
       "      <td>16.860848</td>\n",
       "      <td>8.880021</td>\n",
       "      <td>19.773733</td>\n",
       "      <td>...</td>\n",
       "      <td>18.080971</td>\n",
       "      <td>17.091507</td>\n",
       "      <td>15.777378</td>\n",
       "      <td>17.912053</td>\n",
       "      <td>17.129906</td>\n",
       "      <td>17.620181</td>\n",
       "      <td>16.976108</td>\n",
       "      <td>16.798259</td>\n",
       "      <td>17.929059</td>\n",
       "      <td>7.245437e+06</td>\n",
       "    </tr>\n",
       "    <tr>\n",
       "      <th>min</th>\n",
       "      <td>156.000000</td>\n",
       "      <td>54.000000</td>\n",
       "      <td>17.000000</td>\n",
       "      <td>8.000000</td>\n",
       "      <td>5.000000</td>\n",
       "      <td>7.000000</td>\n",
       "      <td>7.000000</td>\n",
       "      <td>11.000000</td>\n",
       "      <td>32.000000</td>\n",
       "      <td>3.000000</td>\n",
       "      <td>...</td>\n",
       "      <td>7.000000</td>\n",
       "      <td>4.000000</td>\n",
       "      <td>8.000000</td>\n",
       "      <td>4.000000</td>\n",
       "      <td>2.000000</td>\n",
       "      <td>2.000000</td>\n",
       "      <td>2.000000</td>\n",
       "      <td>2.000000</td>\n",
       "      <td>3.000000</td>\n",
       "      <td>4.000000e+02</td>\n",
       "    </tr>\n",
       "    <tr>\n",
       "      <th>25%</th>\n",
       "      <td>177.000000</td>\n",
       "      <td>70.000000</td>\n",
       "      <td>23.000000</td>\n",
       "      <td>55.000000</td>\n",
       "      <td>51.000000</td>\n",
       "      <td>27.000000</td>\n",
       "      <td>30.000000</td>\n",
       "      <td>45.000000</td>\n",
       "      <td>56.000000</td>\n",
       "      <td>40.000000</td>\n",
       "      <td>...</td>\n",
       "      <td>36.000000</td>\n",
       "      <td>32.000000</td>\n",
       "      <td>39.000000</td>\n",
       "      <td>30.000000</td>\n",
       "      <td>8.000000</td>\n",
       "      <td>8.000000</td>\n",
       "      <td>8.000000</td>\n",
       "      <td>8.000000</td>\n",
       "      <td>8.000000</td>\n",
       "      <td>3.500000e+04</td>\n",
       "    </tr>\n",
       "    <tr>\n",
       "      <th>50%</th>\n",
       "      <td>182.000000</td>\n",
       "      <td>75.000000</td>\n",
       "      <td>26.000000</td>\n",
       "      <td>63.000000</td>\n",
       "      <td>62.000000</td>\n",
       "      <td>54.000000</td>\n",
       "      <td>57.000000</td>\n",
       "      <td>59.000000</td>\n",
       "      <td>62.000000</td>\n",
       "      <td>56.000000</td>\n",
       "      <td>...</td>\n",
       "      <td>50.000000</td>\n",
       "      <td>43.000000</td>\n",
       "      <td>49.000000</td>\n",
       "      <td>44.000000</td>\n",
       "      <td>11.000000</td>\n",
       "      <td>11.000000</td>\n",
       "      <td>11.000000</td>\n",
       "      <td>11.000000</td>\n",
       "      <td>11.000000</td>\n",
       "      <td>7.750000e+04</td>\n",
       "    </tr>\n",
       "    <tr>\n",
       "      <th>75%</th>\n",
       "      <td>186.000000</td>\n",
       "      <td>80.000000</td>\n",
       "      <td>30.000000</td>\n",
       "      <td>69.000000</td>\n",
       "      <td>68.000000</td>\n",
       "      <td>64.000000</td>\n",
       "      <td>66.000000</td>\n",
       "      <td>69.000000</td>\n",
       "      <td>68.000000</td>\n",
       "      <td>65.000000</td>\n",
       "      <td>...</td>\n",
       "      <td>62.000000</td>\n",
       "      <td>56.000000</td>\n",
       "      <td>60.000000</td>\n",
       "      <td>57.000000</td>\n",
       "      <td>14.000000</td>\n",
       "      <td>14.000000</td>\n",
       "      <td>14.000000</td>\n",
       "      <td>14.000000</td>\n",
       "      <td>14.000000</td>\n",
       "      <td>1.600000e+06</td>\n",
       "    </tr>\n",
       "    <tr>\n",
       "      <th>max</th>\n",
       "      <td>204.000000</td>\n",
       "      <td>102.000000</td>\n",
       "      <td>41.000000</td>\n",
       "      <td>94.000000</td>\n",
       "      <td>95.000000</td>\n",
       "      <td>87.000000</td>\n",
       "      <td>91.000000</td>\n",
       "      <td>96.000000</td>\n",
       "      <td>93.000000</td>\n",
       "      <td>93.000000</td>\n",
       "      <td>...</td>\n",
       "      <td>93.000000</td>\n",
       "      <td>94.000000</td>\n",
       "      <td>92.000000</td>\n",
       "      <td>90.000000</td>\n",
       "      <td>90.000000</td>\n",
       "      <td>90.000000</td>\n",
       "      <td>87.000000</td>\n",
       "      <td>90.000000</td>\n",
       "      <td>89.000000</td>\n",
       "      <td>1.535000e+08</td>\n",
       "    </tr>\n",
       "  </tbody>\n",
       "</table>\n",
       "<p>8 rows × 37 columns</p>\n",
       "</div>"
      ],
      "text/plain": [
       "            height       weight          age  ball_control    dribbling  \\\n",
       "count  5655.000000  5655.000000  5655.000000   5655.000000  5655.000000   \n",
       "mean    181.669496    75.285411    26.311936     58.901680    56.132980   \n",
       "std       6.829772     6.997010     4.727333     16.574533    18.768138   \n",
       "min     156.000000    54.000000    17.000000      8.000000     5.000000   \n",
       "25%     177.000000    70.000000    23.000000     55.000000    51.000000   \n",
       "50%     182.000000    75.000000    26.000000     63.000000    62.000000   \n",
       "75%     186.000000    80.000000    30.000000     69.000000    68.000000   \n",
       "max     204.000000   102.000000    41.000000     94.000000    95.000000   \n",
       "\n",
       "       slide_tackle  stand_tackle   aggression    reactions  att_position  \\\n",
       "count   5655.000000   5655.000000  5655.000000  5655.000000   5655.000000   \n",
       "mean      46.723254     48.818214    56.311760    61.949956     50.717241   \n",
       "std       20.527169     20.980397    16.860848     8.880021     19.773733   \n",
       "min        7.000000      7.000000    11.000000    32.000000      3.000000   \n",
       "25%       27.000000     30.000000    45.000000    56.000000     40.000000   \n",
       "50%       54.000000     57.000000    59.000000    62.000000     56.000000   \n",
       "75%       64.000000     66.000000    69.000000    68.000000     65.000000   \n",
       "max       87.000000     91.000000    96.000000    93.000000     93.000000   \n",
       "\n",
       "       ...        curve       fk_acc    penalties      volleys  \\\n",
       "count  ...  5655.000000  5655.000000  5655.000000  5655.000000   \n",
       "mean   ...    48.111052    43.310345    48.169938    42.933156   \n",
       "std    ...    18.080971    17.091507    15.777378    17.912053   \n",
       "min    ...     7.000000     4.000000     8.000000     4.000000   \n",
       "25%    ...    36.000000    32.000000    39.000000    30.000000   \n",
       "50%    ...    50.000000    43.000000    49.000000    44.000000   \n",
       "75%    ...    62.000000    56.000000    60.000000    57.000000   \n",
       "max    ...    93.000000    94.000000    92.000000    90.000000   \n",
       "\n",
       "       gk_positioning    gk_diving  gk_handling   gk_kicking  gk_reflexes  \\\n",
       "count     5655.000000  5655.000000  5655.000000  5655.000000  5655.000000   \n",
       "mean        16.179841    16.435013    16.186030    16.071264    16.563572   \n",
       "std         17.129906    17.620181    16.976108    16.798259    17.929059   \n",
       "min          2.000000     2.000000     2.000000     2.000000     3.000000   \n",
       "25%          8.000000     8.000000     8.000000     8.000000     8.000000   \n",
       "50%         11.000000    11.000000    11.000000    11.000000    11.000000   \n",
       "75%         14.000000    14.000000    14.000000    14.000000    14.000000   \n",
       "max         90.000000    90.000000    87.000000    90.000000    89.000000   \n",
       "\n",
       "              value  \n",
       "count  5.655000e+03  \n",
       "mean   2.232476e+06  \n",
       "std    7.245437e+06  \n",
       "min    4.000000e+02  \n",
       "25%    3.500000e+04  \n",
       "50%    7.750000e+04  \n",
       "75%    1.600000e+06  \n",
       "max    1.535000e+08  \n",
       "\n",
       "[8 rows x 37 columns]"
      ]
     },
     "execution_count": 12,
     "metadata": {},
     "output_type": "execute_result"
    }
   ],
   "source": [
    "df.describe()"
   ]
  },
  {
   "cell_type": "markdown",
   "id": "a4fb8540-5f70-4b74-b9b0-38fbbd0886a1",
   "metadata": {},
   "source": [
    "선수 데이터 수 : 5680명\n",
    "키 평균 : 대략 181\n",
    "몸무게 : 평균 75kg\n",
    "나이 평균 : 26세\n",
    "선수 가치 : 27000000달러"
   ]
  },
  {
   "cell_type": "code",
   "execution_count": 13,
   "id": "1b5ee7db-4b94-4747-9c6c-7661f6d1b77a",
   "metadata": {
    "tags": []
   },
   "outputs": [
    {
     "data": {
      "text/html": [
       "<div>\n",
       "<style scoped>\n",
       "    .dataframe tbody tr th:only-of-type {\n",
       "        vertical-align: middle;\n",
       "    }\n",
       "\n",
       "    .dataframe tbody tr th {\n",
       "        vertical-align: top;\n",
       "    }\n",
       "\n",
       "    .dataframe thead th {\n",
       "        text-align: right;\n",
       "    }\n",
       "</style>\n",
       "<table border=\"1\" class=\"dataframe\">\n",
       "  <thead>\n",
       "    <tr style=\"text-align: right;\">\n",
       "      <th></th>\n",
       "      <th>player</th>\n",
       "      <th>country</th>\n",
       "      <th>club</th>\n",
       "    </tr>\n",
       "  </thead>\n",
       "  <tbody>\n",
       "    <tr>\n",
       "      <th>count</th>\n",
       "      <td>5655</td>\n",
       "      <td>5655</td>\n",
       "      <td>5655</td>\n",
       "    </tr>\n",
       "    <tr>\n",
       "      <th>unique</th>\n",
       "      <td>5655</td>\n",
       "      <td>135</td>\n",
       "      <td>688</td>\n",
       "    </tr>\n",
       "    <tr>\n",
       "      <th>top</th>\n",
       "      <td>Cristian Castro Devenish</td>\n",
       "      <td>England</td>\n",
       "      <td>River Plate</td>\n",
       "    </tr>\n",
       "    <tr>\n",
       "      <th>freq</th>\n",
       "      <td>1</td>\n",
       "      <td>514</td>\n",
       "      <td>21</td>\n",
       "    </tr>\n",
       "  </tbody>\n",
       "</table>\n",
       "</div>"
      ],
      "text/plain": [
       "                          player  country          club\n",
       "count                       5655     5655          5655\n",
       "unique                      5655      135           688\n",
       "top     Cristian Castro Devenish  England  River Plate \n",
       "freq                           1      514            21"
      ]
     },
     "execution_count": 13,
     "metadata": {},
     "output_type": "execute_result"
    }
   ],
   "source": [
    "df.describe(include='object')"
   ]
  },
  {
   "cell_type": "markdown",
   "id": "04d9eec1-7f67-480a-a5ec-3981969dea08",
   "metadata": {},
   "source": [
    "잉글랜드 선수가 제일 많은 것으로 나타났고, river plate 선수가 제일 많이 있다."
   ]
  },
  {
   "cell_type": "code",
   "execution_count": 16,
   "id": "b8183594-d0ae-421c-afa8-3ad69592c638",
   "metadata": {
    "tags": []
   },
   "outputs": [],
   "source": [
    "df1=df.query(\"country=='Korea Republic'|country=='Japan'\")"
   ]
  },
  {
   "cell_type": "code",
   "execution_count": 17,
   "id": "ba26f5c5-5b42-45ee-abee-40244143f6b0",
   "metadata": {
    "tags": []
   },
   "outputs": [],
   "source": [
    "korea=df1.query(\"country=='Korea Republic'\")"
   ]
  },
  {
   "cell_type": "code",
   "execution_count": 18,
   "id": "de900b74-197c-4b65-b92e-77301fde8d2f",
   "metadata": {
    "tags": []
   },
   "outputs": [],
   "source": [
    "japan=df1.query(\"country=='Japan'\")"
   ]
  },
  {
   "cell_type": "markdown",
   "id": "0cd91f94-d7fb-49ed-8756-c58c7d30ecbd",
   "metadata": {},
   "source": [
    "### 한국 선수들의 키와 가치의 상관관계를 알아보기"
   ]
  },
  {
   "cell_type": "code",
   "execution_count": 19,
   "id": "bf94928f-0476-45c9-8727-6cabf28f1776",
   "metadata": {
    "tags": []
   },
   "outputs": [
    {
     "data": {
      "text/plain": [
       "[<matplotlib.lines.Line2D at 0x2abfbd51190>]"
      ]
     },
     "execution_count": 19,
     "metadata": {},
     "output_type": "execute_result"
    },
    {
     "data": {
      "image/png": "[encoded data removed]",
      "text/plain": [
       "<Figure size 640x480 with 1 Axes>"
      ]
     },
     "metadata": {},
     "output_type": "display_data"
    }
   ],
   "source": [
    "plt.plot(korea['height'],korea['value'],'o')"
   ]
  },
  {
   "cell_type": "markdown",
   "id": "02c2de5c-9172-43bf-8fef-1a75bd56a643",
   "metadata": {},
   "source": [
    "이상치 하나가 있다는 것을 알 수 있어서 이상치를 제거하고 다시 그려보겠습니다."
   ]
  },
  {
   "cell_type": "code",
   "execution_count": 20,
   "id": "f6ff7e51-9e9e-491c-b340-c650b4c89c3e",
   "metadata": {},
   "outputs": [],
   "source": [
    "korea1=korea[korea['value']!=korea['value'].max()]"
   ]
  },
  {
   "cell_type": "code",
   "execution_count": 21,
   "id": "34232b62-99b5-4373-b9c5-9c8d92428b4e",
   "metadata": {
    "tags": []
   },
   "outputs": [
    {
     "data": {
      "text/plain": [
       "[<matplotlib.lines.Line2D at 0x2abfbdf5bb0>]"
      ]
     },
     "execution_count": 21,
     "metadata": {},
     "output_type": "execute_result"
    },
    {
     "data": {
      "image/png": "[encoded data removed]",
      "text/plain": [
       "<Figure size 640x480 with 1 Axes>"
      ]
     },
     "metadata": {},
     "output_type": "display_data"
    }
   ],
   "source": [
    "plt.plot(korea1['height'],korea1['value'],'o')"
   ]
  },
  {
   "cell_type": "markdown",
   "id": "70d1d2f5-a3d4-4d34-8f6b-e78bceb4af51",
   "metadata": {
    "tags": []
   },
   "source": [
    "이상치가 있어도 value의 차이가 커서 나누어서 그래프를 그려보겠습니다."
   ]
  },
  {
   "cell_type": "code",
   "execution_count": 22,
   "id": "f5d7da9f-79be-493a-9d43-4552903a3860",
   "metadata": {
    "tags": []
   },
   "outputs": [],
   "source": [
    "k1,k2=korea1[korea1['value']>=1000000],korea[korea['value']<1000000]"
   ]
  },
  {
   "cell_type": "code",
   "execution_count": 23,
   "id": "50d195e4-56c6-41e9-8eb2-a7820a6e051d",
   "metadata": {
    "tags": []
   },
   "outputs": [
    {
     "data": {
      "text/plain": [
       "<AxesSubplot:xlabel='height', ylabel='value'>"
      ]
     },
     "execution_count": 23,
     "metadata": {},
     "output_type": "execute_result"
    },
    {
     "data": {
      "image/png": "[encoded data removed]",
      "text/plain": [
       "<Figure size 640x480 with 2 Axes>"
      ]
     },
     "metadata": {},
     "output_type": "display_data"
    }
   ],
   "source": [
    "fig, (ax1,ax2) = plt.subplots(1,2)\n",
    "sns.regplot(data=k1,x=k1['height'],y=k1['value'],marker='o',ax=ax1)\n",
    "sns.regplot(data=k2,x=k2['height'],y=k2['value'],marker='o',ax=ax2)"
   ]
  },
  {
   "cell_type": "markdown",
   "id": "c6b402af-2da6-4315-8b10-41d387a8a1e7",
   "metadata": {},
   "source": [
    "100000 이상인 선수들은 대체적으로 키와 가치가 크게 관련 없는 것으로 보이고\n",
    "100000 미만인 선수들은 키가 크면 가치가 떨어지는 경향을 확인 할 수 있었다."
   ]
  },
  {
   "cell_type": "markdown",
   "id": "ce1fb73d-83b9-4ca3-87fc-2adbf13f8dba",
   "metadata": {},
   "source": [
    "### 일본선수들의 키와 가치의 상관관계 알아보기"
   ]
  },
  {
   "cell_type": "code",
   "execution_count": 24,
   "id": "31ab07f8-f88a-46e3-91f4-51c92a981604",
   "metadata": {
    "tags": []
   },
   "outputs": [
    {
     "data": {
      "text/plain": [
       "[<matplotlib.lines.Line2D at 0x2abfe0c4be0>]"
      ]
     },
     "execution_count": 24,
     "metadata": {},
     "output_type": "execute_result"
    },
    {
     "data": {
      "image/png": "[encoded data removed]",
      "text/plain": [
       "<Figure size 640x480 with 1 Axes>"
      ]
     },
     "metadata": {},
     "output_type": "display_data"
    }
   ],
   "source": [
    "plt.plot(japan['height'],japan['value'],'o')"
   ]
  },
  {
   "cell_type": "code",
   "execution_count": 25,
   "id": "9e86e0f3-7cd6-4896-b755-5eb6257d44ee",
   "metadata": {
    "tags": []
   },
   "outputs": [
    {
     "data": {
      "text/plain": [
       "<AxesSubplot:xlabel='height', ylabel='value'>"
      ]
     },
     "execution_count": 25,
     "metadata": {},
     "output_type": "execute_result"
    },
    {
     "data": {
      "image/png": "[encoded data removed]",
      "text/plain": [
       "<Figure size 640x480 with 1 Axes>"
      ]
     },
     "metadata": {},
     "output_type": "display_data"
    }
   ],
   "source": [
    "sns.regplot(data=japan,x=japan['height'],y=japan['value'],marker='o')"
   ]
  },
  {
   "cell_type": "markdown",
   "id": "e2e453b7-9f49-477d-9e99-0c39cec95b24",
   "metadata": {},
   "source": [
    "이상치가 있어서 선형회귀가 정확하지 않은 것 같아 이상치를 제거하고 다시 그려보겠습니다."
   ]
  },
  {
   "cell_type": "code",
   "execution_count": 26,
   "id": "7448e3eb-d251-4944-862f-755577b1af69",
   "metadata": {
    "tags": []
   },
   "outputs": [],
   "source": [
    "j1=japan[japan['value']!=japan['value'].max()]"
   ]
  },
  {
   "cell_type": "code",
   "execution_count": 27,
   "id": "f811146b-453d-4109-b9bb-2b348db76486",
   "metadata": {
    "tags": []
   },
   "outputs": [
    {
     "data": {
      "text/plain": [
       "<AxesSubplot:xlabel='height', ylabel='value'>"
      ]
     },
     "execution_count": 27,
     "metadata": {},
     "output_type": "execute_result"
    },
    {
     "data": {
      "image/png": "[encoded data removed]",
      "text/plain": [
       "<Figure size 640x480 with 1 Axes>"
      ]
     },
     "metadata": {},
     "output_type": "display_data"
    }
   ],
   "source": [
    "sns.regplot(data=j1,x=j1['height'],y=j1['value'],marker='o')"
   ]
  },
  {
   "cell_type": "markdown",
   "id": "73ed6a22-90b2-4ec5-86e2-57945cd2077b",
   "metadata": {},
   "source": [
    "이상치를 제거하고 다시 그려본 결과 키가 커질수록 가치는 하락하는 경향을 보인다."
   ]
  },
  {
   "cell_type": "markdown",
   "id": "a33db786-f33a-49c9-9dfb-b6d9a067e526",
   "metadata": {},
   "source": [
    "선수가치 평균을 기준으로 상위 15개 국가들의 선수들의 가치를 그려보겠습니다."
   ]
  },
  {
   "cell_type": "code",
   "execution_count": 28,
   "id": "3374bc90-a92b-4a88-a956-27ece3ab8390",
   "metadata": {
    "tags": []
   },
   "outputs": [
    {
     "data": {
      "text/html": [
       "<div>\n",
       "<style scoped>\n",
       "    .dataframe tbody tr th:only-of-type {\n",
       "        vertical-align: middle;\n",
       "    }\n",
       "\n",
       "    .dataframe tbody tr th {\n",
       "        vertical-align: top;\n",
       "    }\n",
       "\n",
       "    .dataframe thead th {\n",
       "        text-align: right;\n",
       "    }\n",
       "</style>\n",
       "<table border=\"1\" class=\"dataframe\">\n",
       "  <thead>\n",
       "    <tr style=\"text-align: right;\">\n",
       "      <th></th>\n",
       "      <th>player</th>\n",
       "      <th>country</th>\n",
       "      <th>height</th>\n",
       "      <th>weight</th>\n",
       "      <th>age</th>\n",
       "      <th>club</th>\n",
       "      <th>ball_control</th>\n",
       "      <th>dribbling</th>\n",
       "      <th>slide_tackle</th>\n",
       "      <th>stand_tackle</th>\n",
       "      <th>...</th>\n",
       "      <th>curve</th>\n",
       "      <th>fk_acc</th>\n",
       "      <th>penalties</th>\n",
       "      <th>volleys</th>\n",
       "      <th>gk_positioning</th>\n",
       "      <th>gk_diving</th>\n",
       "      <th>gk_handling</th>\n",
       "      <th>gk_kicking</th>\n",
       "      <th>gk_reflexes</th>\n",
       "      <th>value</th>\n",
       "    </tr>\n",
       "  </thead>\n",
       "  <tbody>\n",
       "    <tr>\n",
       "      <th>1</th>\n",
       "      <td>Silaldo Taffarel</td>\n",
       "      <td>Brazil</td>\n",
       "      <td>181</td>\n",
       "      <td>80</td>\n",
       "      <td>31</td>\n",
       "      <td>Corinthians</td>\n",
       "      <td>69</td>\n",
       "      <td>70</td>\n",
       "      <td>56</td>\n",
       "      <td>58</td>\n",
       "      <td>...</td>\n",
       "      <td>65</td>\n",
       "      <td>62</td>\n",
       "      <td>48</td>\n",
       "      <td>46</td>\n",
       "      <td>12</td>\n",
       "      <td>15</td>\n",
       "      <td>14</td>\n",
       "      <td>8</td>\n",
       "      <td>14</td>\n",
       "      <td>97500.0</td>\n",
       "    </tr>\n",
       "    <tr>\n",
       "      <th>4</th>\n",
       "      <td>Diego Segovia</td>\n",
       "      <td>Uruguay</td>\n",
       "      <td>191</td>\n",
       "      <td>80</td>\n",
       "      <td>23</td>\n",
       "      <td>Independiente</td>\n",
       "      <td>14</td>\n",
       "      <td>8</td>\n",
       "      <td>14</td>\n",
       "      <td>16</td>\n",
       "      <td>...</td>\n",
       "      <td>9</td>\n",
       "      <td>10</td>\n",
       "      <td>16</td>\n",
       "      <td>5</td>\n",
       "      <td>61</td>\n",
       "      <td>59</td>\n",
       "      <td>62</td>\n",
       "      <td>64</td>\n",
       "      <td>64</td>\n",
       "      <td>30000.0</td>\n",
       "    </tr>\n",
       "    <tr>\n",
       "      <th>5</th>\n",
       "      <td>Cláudio Ramos</td>\n",
       "      <td>Portugal</td>\n",
       "      <td>183</td>\n",
       "      <td>83</td>\n",
       "      <td>31</td>\n",
       "      <td>FC Porto</td>\n",
       "      <td>20</td>\n",
       "      <td>16</td>\n",
       "      <td>13</td>\n",
       "      <td>17</td>\n",
       "      <td>...</td>\n",
       "      <td>15</td>\n",
       "      <td>13</td>\n",
       "      <td>13</td>\n",
       "      <td>10</td>\n",
       "      <td>72</td>\n",
       "      <td>78</td>\n",
       "      <td>73</td>\n",
       "      <td>64</td>\n",
       "      <td>74</td>\n",
       "      <td>2800000.0</td>\n",
       "    </tr>\n",
       "    <tr>\n",
       "      <th>7</th>\n",
       "      <td>Pedro Gomes</td>\n",
       "      <td>Portugal</td>\n",
       "      <td>185</td>\n",
       "      <td>75</td>\n",
       "      <td>20</td>\n",
       "      <td>Boavista FC</td>\n",
       "      <td>41</td>\n",
       "      <td>33</td>\n",
       "      <td>65</td>\n",
       "      <td>70</td>\n",
       "      <td>...</td>\n",
       "      <td>26</td>\n",
       "      <td>26</td>\n",
       "      <td>39</td>\n",
       "      <td>25</td>\n",
       "      <td>7</td>\n",
       "      <td>6</td>\n",
       "      <td>12</td>\n",
       "      <td>13</td>\n",
       "      <td>11</td>\n",
       "      <td>23000.0</td>\n",
       "    </tr>\n",
       "    <tr>\n",
       "      <th>8</th>\n",
       "      <td>Famara Diédhiou</td>\n",
       "      <td>Senegal</td>\n",
       "      <td>189</td>\n",
       "      <td>80</td>\n",
       "      <td>30</td>\n",
       "      <td>Granada CF</td>\n",
       "      <td>68</td>\n",
       "      <td>67</td>\n",
       "      <td>16</td>\n",
       "      <td>22</td>\n",
       "      <td>...</td>\n",
       "      <td>53</td>\n",
       "      <td>39</td>\n",
       "      <td>72</td>\n",
       "      <td>63</td>\n",
       "      <td>11</td>\n",
       "      <td>7</td>\n",
       "      <td>10</td>\n",
       "      <td>15</td>\n",
       "      <td>12</td>\n",
       "      <td>1400000.0</td>\n",
       "    </tr>\n",
       "    <tr>\n",
       "      <th>...</th>\n",
       "      <td>...</td>\n",
       "      <td>...</td>\n",
       "      <td>...</td>\n",
       "      <td>...</td>\n",
       "      <td>...</td>\n",
       "      <td>...</td>\n",
       "      <td>...</td>\n",
       "      <td>...</td>\n",
       "      <td>...</td>\n",
       "      <td>...</td>\n",
       "      <td>...</td>\n",
       "      <td>...</td>\n",
       "      <td>...</td>\n",
       "      <td>...</td>\n",
       "      <td>...</td>\n",
       "      <td>...</td>\n",
       "      <td>...</td>\n",
       "      <td>...</td>\n",
       "      <td>...</td>\n",
       "      <td>...</td>\n",
       "      <td>...</td>\n",
       "    </tr>\n",
       "    <tr>\n",
       "      <th>5673</th>\n",
       "      <td>Rodri</td>\n",
       "      <td>Spain</td>\n",
       "      <td>191</td>\n",
       "      <td>82</td>\n",
       "      <td>27</td>\n",
       "      <td>Manchester City</td>\n",
       "      <td>85</td>\n",
       "      <td>78</td>\n",
       "      <td>78</td>\n",
       "      <td>86</td>\n",
       "      <td>...</td>\n",
       "      <td>65</td>\n",
       "      <td>61</td>\n",
       "      <td>46</td>\n",
       "      <td>59</td>\n",
       "      <td>14</td>\n",
       "      <td>10</td>\n",
       "      <td>10</td>\n",
       "      <td>7</td>\n",
       "      <td>8</td>\n",
       "      <td>77000000.0</td>\n",
       "    </tr>\n",
       "    <tr>\n",
       "      <th>5676</th>\n",
       "      <td>Karim Benzema</td>\n",
       "      <td>France</td>\n",
       "      <td>185</td>\n",
       "      <td>81</td>\n",
       "      <td>35</td>\n",
       "      <td>Real Madrid</td>\n",
       "      <td>91</td>\n",
       "      <td>87</td>\n",
       "      <td>18</td>\n",
       "      <td>24</td>\n",
       "      <td>...</td>\n",
       "      <td>82</td>\n",
       "      <td>73</td>\n",
       "      <td>84</td>\n",
       "      <td>88</td>\n",
       "      <td>5</td>\n",
       "      <td>13</td>\n",
       "      <td>11</td>\n",
       "      <td>5</td>\n",
       "      <td>7</td>\n",
       "      <td>64000000.0</td>\n",
       "    </tr>\n",
       "    <tr>\n",
       "      <th>5677</th>\n",
       "      <td>Mohamed Salah</td>\n",
       "      <td>Egypt</td>\n",
       "      <td>175</td>\n",
       "      <td>71</td>\n",
       "      <td>31</td>\n",
       "      <td>Liverpool</td>\n",
       "      <td>86</td>\n",
       "      <td>88</td>\n",
       "      <td>41</td>\n",
       "      <td>43</td>\n",
       "      <td>...</td>\n",
       "      <td>84</td>\n",
       "      <td>69</td>\n",
       "      <td>86</td>\n",
       "      <td>83</td>\n",
       "      <td>11</td>\n",
       "      <td>14</td>\n",
       "      <td>14</td>\n",
       "      <td>9</td>\n",
       "      <td>14</td>\n",
       "      <td>99500000.0</td>\n",
       "    </tr>\n",
       "    <tr>\n",
       "      <th>5679</th>\n",
       "      <td>Neymar Jr</td>\n",
       "      <td>Brazil</td>\n",
       "      <td>175</td>\n",
       "      <td>68</td>\n",
       "      <td>31</td>\n",
       "      <td>Paris SG</td>\n",
       "      <td>94</td>\n",
       "      <td>95</td>\n",
       "      <td>29</td>\n",
       "      <td>32</td>\n",
       "      <td>...</td>\n",
       "      <td>88</td>\n",
       "      <td>87</td>\n",
       "      <td>91</td>\n",
       "      <td>86</td>\n",
       "      <td>15</td>\n",
       "      <td>9</td>\n",
       "      <td>9</td>\n",
       "      <td>15</td>\n",
       "      <td>11</td>\n",
       "      <td>99500000.0</td>\n",
       "    </tr>\n",
       "    <tr>\n",
       "      <th>5680</th>\n",
       "      <td>Cristiano Ronaldo</td>\n",
       "      <td>Portugal</td>\n",
       "      <td>187</td>\n",
       "      <td>83</td>\n",
       "      <td>38</td>\n",
       "      <td>Al Nassr</td>\n",
       "      <td>87</td>\n",
       "      <td>81</td>\n",
       "      <td>24</td>\n",
       "      <td>32</td>\n",
       "      <td>...</td>\n",
       "      <td>79</td>\n",
       "      <td>75</td>\n",
       "      <td>90</td>\n",
       "      <td>85</td>\n",
       "      <td>14</td>\n",
       "      <td>7</td>\n",
       "      <td>11</td>\n",
       "      <td>15</td>\n",
       "      <td>11</td>\n",
       "      <td>31000000.0</td>\n",
       "    </tr>\n",
       "  </tbody>\n",
       "</table>\n",
       "<p>1487 rows × 40 columns</p>\n",
       "</div>"
      ],
      "text/plain": [
       "                 player   country  height  weight  age              club  \\\n",
       "1      Silaldo Taffarel    Brazil     181      80   31      Corinthians    \n",
       "4         Diego Segovia   Uruguay     191      80   23    Independiente    \n",
       "5         Cláudio Ramos  Portugal     183      83   31         FC Porto    \n",
       "7           Pedro Gomes  Portugal     185      75   20      Boavista FC    \n",
       "8       Famara Diédhiou   Senegal     189      80   30       Granada CF    \n",
       "...                 ...       ...     ...     ...  ...               ...   \n",
       "5673              Rodri     Spain     191      82   27  Manchester City    \n",
       "5676      Karim Benzema    France     185      81   35       Real Madrid   \n",
       "5677      Mohamed Salah     Egypt     175      71   31         Liverpool   \n",
       "5679          Neymar Jr    Brazil     175      68   31          Paris SG   \n",
       "5680  Cristiano Ronaldo  Portugal     187      83   38          Al Nassr   \n",
       "\n",
       "      ball_control  dribbling  slide_tackle  stand_tackle  ...  curve  fk_acc  \\\n",
       "1               69         70            56            58  ...     65      62   \n",
       "4               14          8            14            16  ...      9      10   \n",
       "5               20         16            13            17  ...     15      13   \n",
       "7               41         33            65            70  ...     26      26   \n",
       "8               68         67            16            22  ...     53      39   \n",
       "...            ...        ...           ...           ...  ...    ...     ...   \n",
       "5673            85         78            78            86  ...     65      61   \n",
       "5676            91         87            18            24  ...     82      73   \n",
       "5677            86         88            41            43  ...     84      69   \n",
       "5679            94         95            29            32  ...     88      87   \n",
       "5680            87         81            24            32  ...     79      75   \n",
       "\n",
       "      penalties  volleys  gk_positioning  gk_diving  gk_handling  gk_kicking  \\\n",
       "1            48       46              12         15           14           8   \n",
       "4            16        5              61         59           62          64   \n",
       "5            13       10              72         78           73          64   \n",
       "7            39       25               7          6           12          13   \n",
       "8            72       63              11          7           10          15   \n",
       "...         ...      ...             ...        ...          ...         ...   \n",
       "5673         46       59              14         10           10           7   \n",
       "5676         84       88               5         13           11           5   \n",
       "5677         86       83              11         14           14           9   \n",
       "5679         91       86              15          9            9          15   \n",
       "5680         90       85              14          7           11          15   \n",
       "\n",
       "      gk_reflexes       value  \n",
       "1              14     97500.0  \n",
       "4              64     30000.0  \n",
       "5              74   2800000.0  \n",
       "7              11     23000.0  \n",
       "8              12   1400000.0  \n",
       "...           ...         ...  \n",
       "5673            8  77000000.0  \n",
       "5676            7  64000000.0  \n",
       "5677           14  99500000.0  \n",
       "5679           11  99500000.0  \n",
       "5680           11  31000000.0  \n",
       "\n",
       "[1487 rows x 40 columns]"
      ]
     },
     "execution_count": 28,
     "metadata": {},
     "output_type": "execute_result"
    }
   ],
   "source": [
    "top15=list(df.groupby('country').agg(np.mean).sort_values('value',ascending=False).reset_index()['country'])[0:20]\n",
    "t15=df[df['country'].isin(top15)]\n",
    "t15"
   ]
  },
  {
   "cell_type": "code",
   "execution_count": 29,
   "id": "0b0bb0d8-6c22-44e7-bd51-096246a78b41",
   "metadata": {
    "tags": []
   },
   "outputs": [
    {
     "data": {
      "text/plain": [
       "<AxesSubplot:xlabel='country', ylabel='value'>"
      ]
     },
     "execution_count": 29,
     "metadata": {},
     "output_type": "execute_result"
    },
    {
     "data": {
      "image/png": "[encoded data removed]",
      "text/plain": [
       "<Figure size 640x480 with 1 Axes>"
      ]
     },
     "metadata": {},
     "output_type": "display_data"
    }
   ],
   "source": [
    "sns.boxplot(data=t15, x=t15['country'], y=t15['value'])"
   ]
  },
  {
   "cell_type": "markdown",
   "id": "0517cb92-aba8-46fc-8e1e-008758885862",
   "metadata": {},
   "source": [
    "이상치가 많아서 각각의 나라별로 비교해야 데이터 분석에 용이함을 알 수 있었다 "
   ]
  },
  {
   "cell_type": "markdown",
   "id": "7cbdd0f4-496a-474b-843b-dc4529de754d",
   "metadata": {},
   "source": [
    "선수 가치 순 상위 20명의 데이터를 뽑았다"
   ]
  },
  {
   "cell_type": "code",
   "execution_count": 30,
   "id": "5b6084af-9df5-45a1-9b85-fd09ddfaf269",
   "metadata": {
    "tags": []
   },
   "outputs": [],
   "source": [
    "pl20=list(df.sort_values('value',ascending=False).reset_index()['player'])[0:20]\n",
    "p20=df[df['player'].isin(pl20)]"
   ]
  },
  {
   "cell_type": "code",
   "execution_count": 31,
   "id": "7a4617e0-81b6-4e65-8461-698c8d5acd37",
   "metadata": {
    "tags": []
   },
   "outputs": [
    {
     "data": {
      "text/html": [
       "<div>\n",
       "<style scoped>\n",
       "    .dataframe tbody tr th:only-of-type {\n",
       "        vertical-align: middle;\n",
       "    }\n",
       "\n",
       "    .dataframe tbody tr th {\n",
       "        vertical-align: top;\n",
       "    }\n",
       "\n",
       "    .dataframe thead th {\n",
       "        text-align: right;\n",
       "    }\n",
       "</style>\n",
       "<table border=\"1\" class=\"dataframe\">\n",
       "  <thead>\n",
       "    <tr style=\"text-align: right;\">\n",
       "      <th></th>\n",
       "      <th>player</th>\n",
       "      <th>country</th>\n",
       "      <th>height</th>\n",
       "      <th>weight</th>\n",
       "      <th>age</th>\n",
       "      <th>club</th>\n",
       "      <th>ball_control</th>\n",
       "      <th>dribbling</th>\n",
       "      <th>slide_tackle</th>\n",
       "      <th>stand_tackle</th>\n",
       "      <th>...</th>\n",
       "      <th>curve</th>\n",
       "      <th>fk_acc</th>\n",
       "      <th>penalties</th>\n",
       "      <th>volleys</th>\n",
       "      <th>gk_positioning</th>\n",
       "      <th>gk_diving</th>\n",
       "      <th>gk_handling</th>\n",
       "      <th>gk_kicking</th>\n",
       "      <th>gk_reflexes</th>\n",
       "      <th>value</th>\n",
       "    </tr>\n",
       "  </thead>\n",
       "  <tbody>\n",
       "    <tr>\n",
       "      <th>5229</th>\n",
       "      <td>Kylian Mbappé</td>\n",
       "      <td>France</td>\n",
       "      <td>182</td>\n",
       "      <td>73</td>\n",
       "      <td>24</td>\n",
       "      <td>Paris SG</td>\n",
       "      <td>91</td>\n",
       "      <td>93</td>\n",
       "      <td>32</td>\n",
       "      <td>34</td>\n",
       "      <td>...</td>\n",
       "      <td>80</td>\n",
       "      <td>69</td>\n",
       "      <td>84</td>\n",
       "      <td>83</td>\n",
       "      <td>11</td>\n",
       "      <td>13</td>\n",
       "      <td>5</td>\n",
       "      <td>7</td>\n",
       "      <td>6</td>\n",
       "      <td>153500000.0</td>\n",
       "    </tr>\n",
       "    <tr>\n",
       "      <th>1965</th>\n",
       "      <td>Erling Haaland</td>\n",
       "      <td>Norway</td>\n",
       "      <td>195</td>\n",
       "      <td>94</td>\n",
       "      <td>23</td>\n",
       "      <td>Manchester City</td>\n",
       "      <td>82</td>\n",
       "      <td>78</td>\n",
       "      <td>29</td>\n",
       "      <td>53</td>\n",
       "      <td>...</td>\n",
       "      <td>77</td>\n",
       "      <td>62</td>\n",
       "      <td>79</td>\n",
       "      <td>88</td>\n",
       "      <td>11</td>\n",
       "      <td>7</td>\n",
       "      <td>14</td>\n",
       "      <td>13</td>\n",
       "      <td>7</td>\n",
       "      <td>123000000.0</td>\n",
       "    </tr>\n",
       "    <tr>\n",
       "      <th>4849</th>\n",
       "      <td>Kevin De Bruyne</td>\n",
       "      <td>Belgium</td>\n",
       "      <td>181</td>\n",
       "      <td>75</td>\n",
       "      <td>32</td>\n",
       "      <td>Manchester City</td>\n",
       "      <td>90</td>\n",
       "      <td>86</td>\n",
       "      <td>53</td>\n",
       "      <td>66</td>\n",
       "      <td>...</td>\n",
       "      <td>89</td>\n",
       "      <td>83</td>\n",
       "      <td>83</td>\n",
       "      <td>83</td>\n",
       "      <td>10</td>\n",
       "      <td>15</td>\n",
       "      <td>13</td>\n",
       "      <td>5</td>\n",
       "      <td>13</td>\n",
       "      <td>107500000.0</td>\n",
       "    </tr>\n",
       "    <tr>\n",
       "      <th>916</th>\n",
       "      <td>Sadio Mané</td>\n",
       "      <td>Senegal</td>\n",
       "      <td>174</td>\n",
       "      <td>69</td>\n",
       "      <td>31</td>\n",
       "      <td>FC Bayern München</td>\n",
       "      <td>86</td>\n",
       "      <td>88</td>\n",
       "      <td>38</td>\n",
       "      <td>42</td>\n",
       "      <td>...</td>\n",
       "      <td>77</td>\n",
       "      <td>64</td>\n",
       "      <td>75</td>\n",
       "      <td>75</td>\n",
       "      <td>7</td>\n",
       "      <td>10</td>\n",
       "      <td>10</td>\n",
       "      <td>15</td>\n",
       "      <td>14</td>\n",
       "      <td>101000000.0</td>\n",
       "    </tr>\n",
       "    <tr>\n",
       "      <th>5677</th>\n",
       "      <td>Mohamed Salah</td>\n",
       "      <td>Egypt</td>\n",
       "      <td>175</td>\n",
       "      <td>71</td>\n",
       "      <td>31</td>\n",
       "      <td>Liverpool</td>\n",
       "      <td>86</td>\n",
       "      <td>88</td>\n",
       "      <td>41</td>\n",
       "      <td>43</td>\n",
       "      <td>...</td>\n",
       "      <td>84</td>\n",
       "      <td>69</td>\n",
       "      <td>86</td>\n",
       "      <td>83</td>\n",
       "      <td>11</td>\n",
       "      <td>14</td>\n",
       "      <td>14</td>\n",
       "      <td>9</td>\n",
       "      <td>14</td>\n",
       "      <td>99500000.0</td>\n",
       "    </tr>\n",
       "    <tr>\n",
       "      <th>5679</th>\n",
       "      <td>Neymar Jr</td>\n",
       "      <td>Brazil</td>\n",
       "      <td>175</td>\n",
       "      <td>68</td>\n",
       "      <td>31</td>\n",
       "      <td>Paris SG</td>\n",
       "      <td>94</td>\n",
       "      <td>95</td>\n",
       "      <td>29</td>\n",
       "      <td>32</td>\n",
       "      <td>...</td>\n",
       "      <td>88</td>\n",
       "      <td>87</td>\n",
       "      <td>91</td>\n",
       "      <td>86</td>\n",
       "      <td>15</td>\n",
       "      <td>9</td>\n",
       "      <td>9</td>\n",
       "      <td>15</td>\n",
       "      <td>11</td>\n",
       "      <td>99500000.0</td>\n",
       "    </tr>\n",
       "    <tr>\n",
       "      <th>5136</th>\n",
       "      <td>Joshua Kimmich</td>\n",
       "      <td>Germany</td>\n",
       "      <td>177</td>\n",
       "      <td>75</td>\n",
       "      <td>28</td>\n",
       "      <td>FC Bayern München</td>\n",
       "      <td>85</td>\n",
       "      <td>82</td>\n",
       "      <td>78</td>\n",
       "      <td>85</td>\n",
       "      <td>...</td>\n",
       "      <td>85</td>\n",
       "      <td>73</td>\n",
       "      <td>44</td>\n",
       "      <td>69</td>\n",
       "      <td>15</td>\n",
       "      <td>8</td>\n",
       "      <td>15</td>\n",
       "      <td>7</td>\n",
       "      <td>15</td>\n",
       "      <td>97000000.0</td>\n",
       "    </tr>\n",
       "    <tr>\n",
       "      <th>4211</th>\n",
       "      <td>Virgil van Dijk</td>\n",
       "      <td>Netherlands</td>\n",
       "      <td>193</td>\n",
       "      <td>92</td>\n",
       "      <td>32</td>\n",
       "      <td>Liverpool</td>\n",
       "      <td>76</td>\n",
       "      <td>70</td>\n",
       "      <td>86</td>\n",
       "      <td>91</td>\n",
       "      <td>...</td>\n",
       "      <td>60</td>\n",
       "      <td>70</td>\n",
       "      <td>62</td>\n",
       "      <td>45</td>\n",
       "      <td>11</td>\n",
       "      <td>13</td>\n",
       "      <td>10</td>\n",
       "      <td>13</td>\n",
       "      <td>11</td>\n",
       "      <td>84500000.0</td>\n",
       "    </tr>\n",
       "    <tr>\n",
       "      <th>3416</th>\n",
       "      <td>Lautaro Martínez</td>\n",
       "      <td>Argentina</td>\n",
       "      <td>174</td>\n",
       "      <td>72</td>\n",
       "      <td>26</td>\n",
       "      <td>Inter</td>\n",
       "      <td>86</td>\n",
       "      <td>84</td>\n",
       "      <td>44</td>\n",
       "      <td>31</td>\n",
       "      <td>...</td>\n",
       "      <td>78</td>\n",
       "      <td>54</td>\n",
       "      <td>74</td>\n",
       "      <td>90</td>\n",
       "      <td>8</td>\n",
       "      <td>11</td>\n",
       "      <td>8</td>\n",
       "      <td>8</td>\n",
       "      <td>13</td>\n",
       "      <td>79500000.0</td>\n",
       "    </tr>\n",
       "    <tr>\n",
       "      <th>2458</th>\n",
       "      <td>Gianluigi Donnarumma</td>\n",
       "      <td>Italy</td>\n",
       "      <td>196</td>\n",
       "      <td>90</td>\n",
       "      <td>24</td>\n",
       "      <td>Paris SG</td>\n",
       "      <td>30</td>\n",
       "      <td>28</td>\n",
       "      <td>16</td>\n",
       "      <td>14</td>\n",
       "      <td>...</td>\n",
       "      <td>12</td>\n",
       "      <td>14</td>\n",
       "      <td>24</td>\n",
       "      <td>8</td>\n",
       "      <td>85</td>\n",
       "      <td>90</td>\n",
       "      <td>83</td>\n",
       "      <td>79</td>\n",
       "      <td>89</td>\n",
       "      <td>78000000.0</td>\n",
       "    </tr>\n",
       "    <tr>\n",
       "      <th>3120</th>\n",
       "      <td>Marco Verratti</td>\n",
       "      <td>Italy</td>\n",
       "      <td>165</td>\n",
       "      <td>60</td>\n",
       "      <td>30</td>\n",
       "      <td>Paris SG</td>\n",
       "      <td>92</td>\n",
       "      <td>91</td>\n",
       "      <td>84</td>\n",
       "      <td>82</td>\n",
       "      <td>...</td>\n",
       "      <td>85</td>\n",
       "      <td>64</td>\n",
       "      <td>64</td>\n",
       "      <td>64</td>\n",
       "      <td>15</td>\n",
       "      <td>12</td>\n",
       "      <td>12</td>\n",
       "      <td>15</td>\n",
       "      <td>10</td>\n",
       "      <td>77500000.0</td>\n",
       "    </tr>\n",
       "    <tr>\n",
       "      <th>3863</th>\n",
       "      <td>Federico Valverde</td>\n",
       "      <td>Uruguay</td>\n",
       "      <td>182</td>\n",
       "      <td>78</td>\n",
       "      <td>25</td>\n",
       "      <td>Real Madrid</td>\n",
       "      <td>85</td>\n",
       "      <td>81</td>\n",
       "      <td>79</td>\n",
       "      <td>82</td>\n",
       "      <td>...</td>\n",
       "      <td>74</td>\n",
       "      <td>69</td>\n",
       "      <td>59</td>\n",
       "      <td>70</td>\n",
       "      <td>15</td>\n",
       "      <td>6</td>\n",
       "      <td>10</td>\n",
       "      <td>6</td>\n",
       "      <td>8</td>\n",
       "      <td>77500000.0</td>\n",
       "    </tr>\n",
       "    <tr>\n",
       "      <th>5673</th>\n",
       "      <td>Rodri</td>\n",
       "      <td>Spain</td>\n",
       "      <td>191</td>\n",
       "      <td>82</td>\n",
       "      <td>27</td>\n",
       "      <td>Manchester City</td>\n",
       "      <td>85</td>\n",
       "      <td>78</td>\n",
       "      <td>78</td>\n",
       "      <td>86</td>\n",
       "      <td>...</td>\n",
       "      <td>65</td>\n",
       "      <td>61</td>\n",
       "      <td>46</td>\n",
       "      <td>59</td>\n",
       "      <td>14</td>\n",
       "      <td>10</td>\n",
       "      <td>10</td>\n",
       "      <td>7</td>\n",
       "      <td>8</td>\n",
       "      <td>77000000.0</td>\n",
       "    </tr>\n",
       "    <tr>\n",
       "      <th>3051</th>\n",
       "      <td>Bruno Fernandes</td>\n",
       "      <td>Portugal</td>\n",
       "      <td>179</td>\n",
       "      <td>69</td>\n",
       "      <td>28</td>\n",
       "      <td>Manchester Utd</td>\n",
       "      <td>84</td>\n",
       "      <td>79</td>\n",
       "      <td>65</td>\n",
       "      <td>73</td>\n",
       "      <td>...</td>\n",
       "      <td>86</td>\n",
       "      <td>85</td>\n",
       "      <td>90</td>\n",
       "      <td>87</td>\n",
       "      <td>8</td>\n",
       "      <td>12</td>\n",
       "      <td>14</td>\n",
       "      <td>15</td>\n",
       "      <td>14</td>\n",
       "      <td>72500000.0</td>\n",
       "    </tr>\n",
       "    <tr>\n",
       "      <th>3851</th>\n",
       "      <td>João Cancelo</td>\n",
       "      <td>Portugal</td>\n",
       "      <td>182</td>\n",
       "      <td>74</td>\n",
       "      <td>29</td>\n",
       "      <td>FC Bayern München</td>\n",
       "      <td>86</td>\n",
       "      <td>85</td>\n",
       "      <td>79</td>\n",
       "      <td>83</td>\n",
       "      <td>...</td>\n",
       "      <td>87</td>\n",
       "      <td>69</td>\n",
       "      <td>52</td>\n",
       "      <td>62</td>\n",
       "      <td>14</td>\n",
       "      <td>6</td>\n",
       "      <td>9</td>\n",
       "      <td>15</td>\n",
       "      <td>14</td>\n",
       "      <td>72000000.0</td>\n",
       "    </tr>\n",
       "    <tr>\n",
       "      <th>5676</th>\n",
       "      <td>Karim Benzema</td>\n",
       "      <td>France</td>\n",
       "      <td>185</td>\n",
       "      <td>81</td>\n",
       "      <td>35</td>\n",
       "      <td>Real Madrid</td>\n",
       "      <td>91</td>\n",
       "      <td>87</td>\n",
       "      <td>18</td>\n",
       "      <td>24</td>\n",
       "      <td>...</td>\n",
       "      <td>82</td>\n",
       "      <td>73</td>\n",
       "      <td>84</td>\n",
       "      <td>88</td>\n",
       "      <td>5</td>\n",
       "      <td>13</td>\n",
       "      <td>11</td>\n",
       "      <td>5</td>\n",
       "      <td>7</td>\n",
       "      <td>64000000.0</td>\n",
       "    </tr>\n",
       "    <tr>\n",
       "      <th>2129</th>\n",
       "      <td>Phil Foden</td>\n",
       "      <td>England</td>\n",
       "      <td>171</td>\n",
       "      <td>69</td>\n",
       "      <td>23</td>\n",
       "      <td>Manchester City</td>\n",
       "      <td>90</td>\n",
       "      <td>86</td>\n",
       "      <td>47</td>\n",
       "      <td>59</td>\n",
       "      <td>...</td>\n",
       "      <td>75</td>\n",
       "      <td>68</td>\n",
       "      <td>64</td>\n",
       "      <td>59</td>\n",
       "      <td>10</td>\n",
       "      <td>8</td>\n",
       "      <td>15</td>\n",
       "      <td>6</td>\n",
       "      <td>13</td>\n",
       "      <td>63500000.0</td>\n",
       "    </tr>\n",
       "    <tr>\n",
       "      <th>4338</th>\n",
       "      <td>Martin Ødegaard</td>\n",
       "      <td>Norway</td>\n",
       "      <td>178</td>\n",
       "      <td>68</td>\n",
       "      <td>24</td>\n",
       "      <td>Arsenal</td>\n",
       "      <td>87</td>\n",
       "      <td>86</td>\n",
       "      <td>51</td>\n",
       "      <td>49</td>\n",
       "      <td>...</td>\n",
       "      <td>83</td>\n",
       "      <td>85</td>\n",
       "      <td>63</td>\n",
       "      <td>76</td>\n",
       "      <td>8</td>\n",
       "      <td>14</td>\n",
       "      <td>15</td>\n",
       "      <td>15</td>\n",
       "      <td>10</td>\n",
       "      <td>62000000.0</td>\n",
       "    </tr>\n",
       "    <tr>\n",
       "      <th>1173</th>\n",
       "      <td>Andrew Robertson</td>\n",
       "      <td>Scotland</td>\n",
       "      <td>178</td>\n",
       "      <td>64</td>\n",
       "      <td>29</td>\n",
       "      <td>Liverpool</td>\n",
       "      <td>83</td>\n",
       "      <td>81</td>\n",
       "      <td>81</td>\n",
       "      <td>83</td>\n",
       "      <td>...</td>\n",
       "      <td>82</td>\n",
       "      <td>71</td>\n",
       "      <td>55</td>\n",
       "      <td>32</td>\n",
       "      <td>7</td>\n",
       "      <td>11</td>\n",
       "      <td>8</td>\n",
       "      <td>10</td>\n",
       "      <td>14</td>\n",
       "      <td>61500000.0</td>\n",
       "    </tr>\n",
       "    <tr>\n",
       "      <th>3535</th>\n",
       "      <td>Pedri</td>\n",
       "      <td>Spain</td>\n",
       "      <td>174</td>\n",
       "      <td>61</td>\n",
       "      <td>20</td>\n",
       "      <td>FC Barcelona</td>\n",
       "      <td>88</td>\n",
       "      <td>87</td>\n",
       "      <td>63</td>\n",
       "      <td>73</td>\n",
       "      <td>...</td>\n",
       "      <td>79</td>\n",
       "      <td>62</td>\n",
       "      <td>53</td>\n",
       "      <td>56</td>\n",
       "      <td>8</td>\n",
       "      <td>12</td>\n",
       "      <td>7</td>\n",
       "      <td>11</td>\n",
       "      <td>8</td>\n",
       "      <td>58500000.0</td>\n",
       "    </tr>\n",
       "  </tbody>\n",
       "</table>\n",
       "<p>20 rows × 40 columns</p>\n",
       "</div>"
      ],
      "text/plain": [
       "                    player      country  height  weight  age  \\\n",
       "5229         Kylian Mbappé       France     182      73   24   \n",
       "1965        Erling Haaland       Norway     195      94   23   \n",
       "4849       Kevin De Bruyne      Belgium     181      75   32   \n",
       "916             Sadio Mané      Senegal     174      69   31   \n",
       "5677         Mohamed Salah        Egypt     175      71   31   \n",
       "5679             Neymar Jr       Brazil     175      68   31   \n",
       "5136        Joshua Kimmich      Germany     177      75   28   \n",
       "4211       Virgil van Dijk  Netherlands     193      92   32   \n",
       "3416      Lautaro Martínez    Argentina     174      72   26   \n",
       "2458  Gianluigi Donnarumma        Italy     196      90   24   \n",
       "3120        Marco Verratti        Italy     165      60   30   \n",
       "3863     Federico Valverde      Uruguay     182      78   25   \n",
       "5673                 Rodri        Spain     191      82   27   \n",
       "3051       Bruno Fernandes     Portugal     179      69   28   \n",
       "3851          João Cancelo     Portugal     182      74   29   \n",
       "5676         Karim Benzema       France     185      81   35   \n",
       "2129            Phil Foden      England     171      69   23   \n",
       "4338       Martin Ødegaard       Norway     178      68   24   \n",
       "1173      Andrew Robertson     Scotland     178      64   29   \n",
       "3535                 Pedri        Spain     174      61   20   \n",
       "\n",
       "                    club  ball_control  dribbling  slide_tackle  stand_tackle  \\\n",
       "5229           Paris SG             91         93            32            34   \n",
       "1965    Manchester City             82         78            29            53   \n",
       "4849    Manchester City             90         86            53            66   \n",
       "916   FC Bayern München             86         88            38            42   \n",
       "5677           Liverpool            86         88            41            43   \n",
       "5679            Paris SG            94         95            29            32   \n",
       "5136  FC Bayern München             85         82            78            85   \n",
       "4211          Liverpool             76         70            86            91   \n",
       "3416              Inter             86         84            44            31   \n",
       "2458           Paris SG             30         28            16            14   \n",
       "3120           Paris SG             92         91            84            82   \n",
       "3863        Real Madrid             85         81            79            82   \n",
       "5673    Manchester City             85         78            78            86   \n",
       "3051     Manchester Utd             84         79            65            73   \n",
       "3851  FC Bayern München             86         85            79            83   \n",
       "5676         Real Madrid            91         87            18            24   \n",
       "2129    Manchester City             90         86            47            59   \n",
       "4338            Arsenal             87         86            51            49   \n",
       "1173          Liverpool             83         81            81            83   \n",
       "3535       FC Barcelona             88         87            63            73   \n",
       "\n",
       "      ...  curve  fk_acc  penalties  volleys  gk_positioning  gk_diving  \\\n",
       "5229  ...     80      69         84       83              11         13   \n",
       "1965  ...     77      62         79       88              11          7   \n",
       "4849  ...     89      83         83       83              10         15   \n",
       "916   ...     77      64         75       75               7         10   \n",
       "5677  ...     84      69         86       83              11         14   \n",
       "5679  ...     88      87         91       86              15          9   \n",
       "5136  ...     85      73         44       69              15          8   \n",
       "4211  ...     60      70         62       45              11         13   \n",
       "3416  ...     78      54         74       90               8         11   \n",
       "2458  ...     12      14         24        8              85         90   \n",
       "3120  ...     85      64         64       64              15         12   \n",
       "3863  ...     74      69         59       70              15          6   \n",
       "5673  ...     65      61         46       59              14         10   \n",
       "3051  ...     86      85         90       87               8         12   \n",
       "3851  ...     87      69         52       62              14          6   \n",
       "5676  ...     82      73         84       88               5         13   \n",
       "2129  ...     75      68         64       59              10          8   \n",
       "4338  ...     83      85         63       76               8         14   \n",
       "1173  ...     82      71         55       32               7         11   \n",
       "3535  ...     79      62         53       56               8         12   \n",
       "\n",
       "      gk_handling  gk_kicking  gk_reflexes        value  \n",
       "5229            5           7            6  153500000.0  \n",
       "1965           14          13            7  123000000.0  \n",
       "4849           13           5           13  107500000.0  \n",
       "916            10          15           14  101000000.0  \n",
       "5677           14           9           14   99500000.0  \n",
       "5679            9          15           11   99500000.0  \n",
       "5136           15           7           15   97000000.0  \n",
       "4211           10          13           11   84500000.0  \n",
       "3416            8           8           13   79500000.0  \n",
       "2458           83          79           89   78000000.0  \n",
       "3120           12          15           10   77500000.0  \n",
       "3863           10           6            8   77500000.0  \n",
       "5673           10           7            8   77000000.0  \n",
       "3051           14          15           14   72500000.0  \n",
       "3851            9          15           14   72000000.0  \n",
       "5676           11           5            7   64000000.0  \n",
       "2129           15           6           13   63500000.0  \n",
       "4338           15          15           10   62000000.0  \n",
       "1173            8          10           14   61500000.0  \n",
       "3535            7          11            8   58500000.0  \n",
       "\n",
       "[20 rows x 40 columns]"
      ]
     },
     "execution_count": 31,
     "metadata": {},
     "output_type": "execute_result"
    }
   ],
   "source": [
    "p20.sort_values('value',ascending=False)"
   ]
  },
  {
   "cell_type": "code",
   "execution_count": 32,
   "id": "6e191b6e-ae6f-4561-8534-3b47e7821b8e",
   "metadata": {
    "tags": []
   },
   "outputs": [
    {
     "data": {
      "text/plain": [
       "<AxesSubplot:xlabel='country', ylabel='count'>"
      ]
     },
     "execution_count": 32,
     "metadata": {},
     "output_type": "execute_result"
    },
    {
     "data": {
      "image/png": "[encoded data removed]",
      "text/plain": [
       "<Figure size 640x480 with 1 Axes>"
      ]
     },
     "metadata": {},
     "output_type": "display_data"
    }
   ],
   "source": [
    "sns.countplot(x='country', data=p20)"
   ]
  },
  {
   "cell_type": "markdown",
   "id": "ecb1abee-6251-4ce6-a481-c2e58fd3f5b7",
   "metadata": {},
   "source": [
    "상위 20명의 선수들의 국가분포를 알아보았다. 스페인 이탈리아 포르투칼등 5개 국으로 나타났다."
   ]
  },
  {
   "cell_type": "code",
   "execution_count": 33,
   "id": "3f01c7d4-3819-475e-a2d5-36eb34764de9",
   "metadata": {
    "tags": []
   },
   "outputs": [
    {
     "data": {
      "text/plain": [
       "<AxesSubplot:xlabel='age', ylabel='Count'>"
      ]
     },
     "execution_count": 33,
     "metadata": {},
     "output_type": "execute_result"
    },
    {
     "data": {
      "image/png": "[encoded data removed]",
      "text/plain": [
       "<Figure size 640x480 with 1 Axes>"
      ]
     },
     "metadata": {},
     "output_type": "display_data"
    }
   ],
   "source": [
    "sns.histplot(p20['age'],kde=True)"
   ]
  },
  {
   "cell_type": "markdown",
   "id": "23094766-0371-44fd-8094-68321b13faff",
   "metadata": {},
   "source": [
    "상위 20선수들의 나이분포를 보아 평균 26~28세로 볼 수 있다."
   ]
  },
  {
   "cell_type": "code",
   "execution_count": 38,
   "id": "34205f26-784a-4507-ae71-6b7f7c98da68",
   "metadata": {
    "tags": []
   },
   "outputs": [
    {
     "ename": "ValueError",
     "evalue": "Length of values (1) does not match length of index (20)",
     "output_type": "error",
     "traceback": [
      "\u001b[1;31m---------------------------------------------------------------------------\u001b[0m",
      "\u001b[1;31mValueError\u001b[0m                                Traceback (most recent call last)",
      "Cell \u001b[1;32mIn[38], line 3\u001b[0m\n\u001b[0;32m      1\u001b[0m \u001b[38;5;28;01mfrom\u001b[39;00m \u001b[38;5;21;01msklearn\u001b[39;00m\u001b[38;5;21;01m.\u001b[39;00m\u001b[38;5;21;01mlinear_model\u001b[39;00m \u001b[38;5;28;01mimport\u001b[39;00m LogisticRegression\n\u001b[0;32m      2\u001b[0m model1\u001b[38;5;241m=\u001b[39mLogisticRegression(penalty\u001b[38;5;241m=\u001b[39m\u001b[38;5;124m'\u001b[39m\u001b[38;5;124mnone\u001b[39m\u001b[38;5;124m'\u001b[39m)\n\u001b[1;32m----> 3\u001b[0m model1\u001b[38;5;241m.\u001b[39mfit(\u001b[43mnp\u001b[49m\u001b[38;5;241;43m.\u001b[39;49m\u001b[43mreshape\u001b[49m\u001b[43m(\u001b[49m\u001b[43mp20\u001b[49m\u001b[43m[\u001b[49m\u001b[38;5;124;43m'\u001b[39;49m\u001b[38;5;124;43mheight\u001b[39;49m\u001b[38;5;124;43m'\u001b[39;49m\u001b[43m]\u001b[49m\u001b[43m,\u001b[49m\u001b[43m(\u001b[49m\u001b[38;5;241;43m1\u001b[39;49m\u001b[43m,\u001b[49m\u001b[38;5;241;43m-\u001b[39;49m\u001b[38;5;241;43m1\u001b[39;49m\u001b[43m)\u001b[49m\u001b[43m)\u001b[49m,p20[\u001b[38;5;124m'\u001b[39m\u001b[38;5;124mweight\u001b[39m\u001b[38;5;124m'\u001b[39m])\n",
      "File \u001b[1;32m<__array_function__ internals>:180\u001b[0m, in \u001b[0;36mreshape\u001b[1;34m(*args, **kwargs)\u001b[0m\n",
      "File \u001b[1;32m~\\anaconda3\\envs\\py38r40\\lib\\site-packages\\numpy\\core\\fromnumeric.py:298\u001b[0m, in \u001b[0;36mreshape\u001b[1;34m(a, newshape, order)\u001b[0m\n\u001b[0;32m    198\u001b[0m \u001b[38;5;129m@array_function_dispatch\u001b[39m(_reshape_dispatcher)\n\u001b[0;32m    199\u001b[0m \u001b[38;5;28;01mdef\u001b[39;00m \u001b[38;5;21mreshape\u001b[39m(a, newshape, order\u001b[38;5;241m=\u001b[39m\u001b[38;5;124m'\u001b[39m\u001b[38;5;124mC\u001b[39m\u001b[38;5;124m'\u001b[39m):\n\u001b[0;32m    200\u001b[0m \u001b[38;5;250m    \u001b[39m\u001b[38;5;124;03m\"\"\"\u001b[39;00m\n\u001b[0;32m    201\u001b[0m \u001b[38;5;124;03m    Gives a new shape to an array without changing its data.\u001b[39;00m\n\u001b[0;32m    202\u001b[0m \n\u001b[1;32m   (...)\u001b[0m\n\u001b[0;32m    296\u001b[0m \u001b[38;5;124;03m           [5, 6]])\u001b[39;00m\n\u001b[0;32m    297\u001b[0m \u001b[38;5;124;03m    \"\"\"\u001b[39;00m\n\u001b[1;32m--> 298\u001b[0m     \u001b[38;5;28;01mreturn\u001b[39;00m \u001b[43m_wrapfunc\u001b[49m\u001b[43m(\u001b[49m\u001b[43ma\u001b[49m\u001b[43m,\u001b[49m\u001b[43m \u001b[49m\u001b[38;5;124;43m'\u001b[39;49m\u001b[38;5;124;43mreshape\u001b[39;49m\u001b[38;5;124;43m'\u001b[39;49m\u001b[43m,\u001b[49m\u001b[43m \u001b[49m\u001b[43mnewshape\u001b[49m\u001b[43m,\u001b[49m\u001b[43m \u001b[49m\u001b[43morder\u001b[49m\u001b[38;5;241;43m=\u001b[39;49m\u001b[43morder\u001b[49m\u001b[43m)\u001b[49m\n",
      "File \u001b[1;32m~\\anaconda3\\envs\\py38r40\\lib\\site-packages\\numpy\\core\\fromnumeric.py:54\u001b[0m, in \u001b[0;36m_wrapfunc\u001b[1;34m(obj, method, *args, **kwds)\u001b[0m\n\u001b[0;32m     52\u001b[0m bound \u001b[38;5;241m=\u001b[39m \u001b[38;5;28mgetattr\u001b[39m(obj, method, \u001b[38;5;28;01mNone\u001b[39;00m)\n\u001b[0;32m     53\u001b[0m \u001b[38;5;28;01mif\u001b[39;00m bound \u001b[38;5;129;01mis\u001b[39;00m \u001b[38;5;28;01mNone\u001b[39;00m:\n\u001b[1;32m---> 54\u001b[0m     \u001b[38;5;28;01mreturn\u001b[39;00m \u001b[43m_wrapit\u001b[49m\u001b[43m(\u001b[49m\u001b[43mobj\u001b[49m\u001b[43m,\u001b[49m\u001b[43m \u001b[49m\u001b[43mmethod\u001b[49m\u001b[43m,\u001b[49m\u001b[43m \u001b[49m\u001b[38;5;241;43m*\u001b[39;49m\u001b[43margs\u001b[49m\u001b[43m,\u001b[49m\u001b[43m \u001b[49m\u001b[38;5;241;43m*\u001b[39;49m\u001b[38;5;241;43m*\u001b[39;49m\u001b[43mkwds\u001b[49m\u001b[43m)\u001b[49m\n\u001b[0;32m     56\u001b[0m \u001b[38;5;28;01mtry\u001b[39;00m:\n\u001b[0;32m     57\u001b[0m     \u001b[38;5;28;01mreturn\u001b[39;00m bound(\u001b[38;5;241m*\u001b[39margs, \u001b[38;5;241m*\u001b[39m\u001b[38;5;241m*\u001b[39mkwds)\n",
      "File \u001b[1;32m~\\anaconda3\\envs\\py38r40\\lib\\site-packages\\numpy\\core\\fromnumeric.py:47\u001b[0m, in \u001b[0;36m_wrapit\u001b[1;34m(obj, method, *args, **kwds)\u001b[0m\n\u001b[0;32m     45\u001b[0m     \u001b[38;5;28;01mif\u001b[39;00m \u001b[38;5;129;01mnot\u001b[39;00m \u001b[38;5;28misinstance\u001b[39m(result, mu\u001b[38;5;241m.\u001b[39mndarray):\n\u001b[0;32m     46\u001b[0m         result \u001b[38;5;241m=\u001b[39m asarray(result)\n\u001b[1;32m---> 47\u001b[0m     result \u001b[38;5;241m=\u001b[39m \u001b[43mwrap\u001b[49m\u001b[43m(\u001b[49m\u001b[43mresult\u001b[49m\u001b[43m)\u001b[49m\n\u001b[0;32m     48\u001b[0m \u001b[38;5;28;01mreturn\u001b[39;00m result\n",
      "File \u001b[1;32m~\\anaconda3\\envs\\py38r40\\lib\\site-packages\\pandas\\core\\generic.py:2025\u001b[0m, in \u001b[0;36mNDFrame.__array_wrap__\u001b[1;34m(self, result, context)\u001b[0m\n\u001b[0;32m   2022\u001b[0m d \u001b[38;5;241m=\u001b[39m \u001b[38;5;28mself\u001b[39m\u001b[38;5;241m.\u001b[39m_construct_axes_dict(\u001b[38;5;28mself\u001b[39m\u001b[38;5;241m.\u001b[39m_AXIS_ORDERS, copy\u001b[38;5;241m=\u001b[39m\u001b[38;5;28;01mFalse\u001b[39;00m)\n\u001b[0;32m   2023\u001b[0m \u001b[38;5;66;03m# error: Argument 1 to \"NDFrame\" has incompatible type \"ndarray\";\u001b[39;00m\n\u001b[0;32m   2024\u001b[0m \u001b[38;5;66;03m# expected \"BlockManager\"\u001b[39;00m\n\u001b[1;32m-> 2025\u001b[0m \u001b[38;5;28;01mreturn\u001b[39;00m \u001b[38;5;28;43mself\u001b[39;49m\u001b[38;5;241;43m.\u001b[39;49m\u001b[43m_constructor\u001b[49m\u001b[43m(\u001b[49m\u001b[43mres\u001b[49m\u001b[43m,\u001b[49m\u001b[43m \u001b[49m\u001b[38;5;241;43m*\u001b[39;49m\u001b[38;5;241;43m*\u001b[39;49m\u001b[43md\u001b[49m\u001b[43m)\u001b[49m\u001b[38;5;241m.\u001b[39m__finalize__(  \u001b[38;5;66;03m# type: ignore[arg-type]\u001b[39;00m\n\u001b[0;32m   2026\u001b[0m     \u001b[38;5;28mself\u001b[39m, method\u001b[38;5;241m=\u001b[39m\u001b[38;5;124m\"\u001b[39m\u001b[38;5;124m__array_wrap__\u001b[39m\u001b[38;5;124m\"\u001b[39m\n\u001b[0;32m   2027\u001b[0m )\n",
      "File \u001b[1;32m~\\anaconda3\\envs\\py38r40\\lib\\site-packages\\pandas\\core\\series.py:430\u001b[0m, in \u001b[0;36mSeries.__init__\u001b[1;34m(self, data, index, dtype, name, copy, fastpath)\u001b[0m\n\u001b[0;32m    428\u001b[0m     index \u001b[38;5;241m=\u001b[39m ibase\u001b[38;5;241m.\u001b[39mdefault_index(\u001b[38;5;28mlen\u001b[39m(data))\n\u001b[0;32m    429\u001b[0m \u001b[38;5;28;01melif\u001b[39;00m is_list_like(data):\n\u001b[1;32m--> 430\u001b[0m     \u001b[43mcom\u001b[49m\u001b[38;5;241;43m.\u001b[39;49m\u001b[43mrequire_length_match\u001b[49m\u001b[43m(\u001b[49m\u001b[43mdata\u001b[49m\u001b[43m,\u001b[49m\u001b[43m \u001b[49m\u001b[43mindex\u001b[49m\u001b[43m)\u001b[49m\n\u001b[0;32m    432\u001b[0m \u001b[38;5;66;03m# create/copy the manager\u001b[39;00m\n\u001b[0;32m    433\u001b[0m \u001b[38;5;28;01mif\u001b[39;00m \u001b[38;5;28misinstance\u001b[39m(data, (SingleBlockManager, SingleArrayManager)):\n",
      "File \u001b[1;32m~\\anaconda3\\envs\\py38r40\\lib\\site-packages\\pandas\\core\\common.py:531\u001b[0m, in \u001b[0;36mrequire_length_match\u001b[1;34m(data, index)\u001b[0m\n\u001b[0;32m    527\u001b[0m \u001b[38;5;250m\u001b[39m\u001b[38;5;124;03m\"\"\"\u001b[39;00m\n\u001b[0;32m    528\u001b[0m \u001b[38;5;124;03mCheck the length of data matches the length of the index.\u001b[39;00m\n\u001b[0;32m    529\u001b[0m \u001b[38;5;124;03m\"\"\"\u001b[39;00m\n\u001b[0;32m    530\u001b[0m \u001b[38;5;28;01mif\u001b[39;00m \u001b[38;5;28mlen\u001b[39m(data) \u001b[38;5;241m!=\u001b[39m \u001b[38;5;28mlen\u001b[39m(index):\n\u001b[1;32m--> 531\u001b[0m     \u001b[38;5;28;01mraise\u001b[39;00m \u001b[38;5;167;01mValueError\u001b[39;00m(\n\u001b[0;32m    532\u001b[0m         \u001b[38;5;124m\"\u001b[39m\u001b[38;5;124mLength of values \u001b[39m\u001b[38;5;124m\"\u001b[39m\n\u001b[0;32m    533\u001b[0m         \u001b[38;5;124mf\u001b[39m\u001b[38;5;124m\"\u001b[39m\u001b[38;5;124m(\u001b[39m\u001b[38;5;132;01m{\u001b[39;00m\u001b[38;5;28mlen\u001b[39m(data)\u001b[38;5;132;01m}\u001b[39;00m\u001b[38;5;124m) \u001b[39m\u001b[38;5;124m\"\u001b[39m\n\u001b[0;32m    534\u001b[0m         \u001b[38;5;124m\"\u001b[39m\u001b[38;5;124mdoes not match length of index \u001b[39m\u001b[38;5;124m\"\u001b[39m\n\u001b[0;32m    535\u001b[0m         \u001b[38;5;124mf\u001b[39m\u001b[38;5;124m\"\u001b[39m\u001b[38;5;124m(\u001b[39m\u001b[38;5;132;01m{\u001b[39;00m\u001b[38;5;28mlen\u001b[39m(index)\u001b[38;5;132;01m}\u001b[39;00m\u001b[38;5;124m)\u001b[39m\u001b[38;5;124m\"\u001b[39m\n\u001b[0;32m    536\u001b[0m     )\n",
      "\u001b[1;31mValueError\u001b[0m: Length of values (1) does not match length of index (20)"
     ]
    }
   ],
   "source": [
    "from sklearn.linear_model import LogisticRegression\n",
    "model1=LogisticRegression(penalty='none')\n",
    "model1.fit(np.reshape(p20['height'],(1,-1)),p20['weight'])"
   ]
  },
  {
   "cell_type": "code",
   "execution_count": null,
   "id": "46af8722-0eaf-4ead-a367-58dab91ba2ec",
   "metadata": {},
   "outputs": [],
   "source": [
    "model = LinearRegression()\n",
    "model.fit()"
   ]
  },
  {
   "cell_type": "code",
   "execution_count": null,
   "id": "7990efdc-d314-49f1-b4bc-472d77c98b25",
   "metadata": {},
   "outputs": [],
   "source": []
  },
  {
   "cell_type": "code",
   "execution_count": null,
   "id": "cf077182-4cbc-4400-9c0d-c4ff21b2b9f9",
   "metadata": {},
   "outputs": [],
   "source": []
  },
  {
   "cell_type": "code",
   "execution_count": null,
   "id": "4fc491df-76c4-4aab-9876-4b7d9adfc61b",
   "metadata": {},
   "outputs": [],
   "source": []
  },
  {
   "cell_type": "code",
   "execution_count": null,
   "id": "e4293d63-7938-4840-9941-88aeb23aff43",
   "metadata": {},
   "outputs": [],
   "source": []
  },
  {
   "cell_type": "code",
   "execution_count": null,
   "id": "cbe923ee-f682-4078-8f1f-e92ca7e29939",
   "metadata": {},
   "outputs": [],
   "source": []
  }
 ],
 "metadata": {
  "kernelspec": {
   "display_name": "Python 3 (ipykernel)",
   "language": "python",
   "name": "python3"
  },
  "language_info": {
   "codemirror_mode": {
    "name": "ipython",
    "version": 3
   },
   "file_extension": ".py",
   "mimetype": "text/x-python",
   "name": "python",
   "nbconvert_exporter": "python",
   "pygments_lexer": "ipython3",
   "version": "3.8.8"
  }
 },
 "nbformat": 4,
 "nbformat_minor": 5
}
